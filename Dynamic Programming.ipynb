{
 "cells": [
  {
   "cell_type": "markdown",
   "id": "7bd36d01",
   "metadata": {},
   "source": [
    "## LCS type problems"
   ]
  },
  {
   "cell_type": "markdown",
   "id": "6e024b98",
   "metadata": {},
   "source": [
    "# 1. Longest Common Subsequence"
   ]
  },
  {
   "cell_type": "markdown",
   "id": "90c3c593",
   "metadata": {},
   "source": [
    "- Base Condition think of smallest input possible\n"
   ]
  },
  {
   "cell_type": "code",
   "execution_count": 20,
   "id": "a117c7c3",
   "metadata": {},
   "outputs": [],
   "source": [
    "# What is wrong with this code?\n",
    "def LCS1(a,b,m,n):\n",
    "    \n",
    "    #Base Case\n",
    "    if ( m==-1 or n==-1):\n",
    "        return 0\n",
    "    \n",
    "    if (a[m] == b[n]):\n",
    "        return 1+LCS1(a,b,m-1,n-1)\n",
    "    else:\n",
    "        p = LCS1 (a,b,m,n-1)\n",
    "        q = LCS1 (a,b,m-1,n)\n",
    "        return (max(p,q))"
   ]
  },
  {
   "cell_type": "code",
   "execution_count": 22,
   "id": "e21a7bf6",
   "metadata": {},
   "outputs": [
    {
     "data": {
      "text/plain": [
       "7"
      ]
     },
     "execution_count": 22,
     "metadata": {},
     "output_type": "execute_result"
    }
   ],
   "source": [
    "a , b = \"abcdhefgh\" , \"pbfcdhefgy\"\n",
    "LCS1(a , b , len(a)-1 , len(b)-1)"
   ]
  },
  {
   "cell_type": "markdown",
   "id": "5c5dfde9",
   "metadata": {},
   "source": [
    "### Recursion"
   ]
  },
  {
   "cell_type": "code",
   "execution_count": 9,
   "id": "127e7670",
   "metadata": {},
   "outputs": [],
   "source": [
    "#This is correct\n",
    "def LCS2(a,b,m,n):\n",
    "    \n",
    "    #Base Case\n",
    "    if ( m==0 or n==0):\n",
    "        return 0\n",
    "    \n",
    "    if (a[m-1] == b[n-1]):\n",
    "        return 1+LCS2(a,b,m-1,n-1)\n",
    "    else:\n",
    "        p = LCS2 (a,b,m,n-1)\n",
    "        q = LCS2 (a,b,m-1,n)\n",
    "        return (max(p,q))"
   ]
  },
  {
   "cell_type": "code",
   "execution_count": 10,
   "id": "1ba5bcce",
   "metadata": {},
   "outputs": [
    {
     "data": {
      "text/plain": [
       "5"
      ]
     },
     "execution_count": 10,
     "metadata": {},
     "output_type": "execute_result"
    }
   ],
   "source": [
    "a , b = \"abcdhe\" , \"pbfcdhe\"\n",
    "LCS2(a , b , len(a) , len(b))"
   ]
  },
  {
   "cell_type": "markdown",
   "id": "40fd0f8d",
   "metadata": {},
   "source": [
    "### DP with Recursion (Bottom up Approach)"
   ]
  },
  {
   "cell_type": "code",
   "execution_count": 11,
   "id": "3ab34cdf",
   "metadata": {},
   "outputs": [],
   "source": [
    "global t\n",
    "a = \"abcdhe\"\n",
    "b = \"pbfcdhe\"\n",
    "t = [[-1 for i in range (len(b)+1)] for j in range (len(a)+1)]"
   ]
  },
  {
   "cell_type": "code",
   "execution_count": 14,
   "id": "508e57fa",
   "metadata": {},
   "outputs": [],
   "source": [
    "#This is correct\n",
    "def LCS3(a,b,m,n,t):\n",
    "    \n",
    "    #Base Case\n",
    "    if ( m==0 or n==0):\n",
    "        return 0\n",
    "    \n",
    "    if (t[m][n] != -1):\n",
    "        return (t[m][n])\n",
    "    \n",
    "    if (a[m-1] == b[n-1]):\n",
    "        t[m][n] = 1+LCS3(a,b,m-1,n-1,t)\n",
    "        return t[m][n]\n",
    "    else:\n",
    "        t[m][n] = max( LCS3 (a,b,m,n-1,t) , LCS3(a,b,m-1,n,t) )\n",
    "        return t[m][n]"
   ]
  },
  {
   "cell_type": "code",
   "execution_count": 15,
   "id": "4b50c6aa",
   "metadata": {},
   "outputs": [
    {
     "data": {
      "text/plain": [
       "5"
      ]
     },
     "execution_count": 15,
     "metadata": {},
     "output_type": "execute_result"
    }
   ],
   "source": [
    "LCS3 (a , b , len(a) , len(b), t)"
   ]
  },
  {
   "cell_type": "markdown",
   "id": "629f6144",
   "metadata": {},
   "source": [
    "### Top Down (Some times called as True DP -- By Some people)"
   ]
  },
  {
   "cell_type": "code",
   "execution_count": 16,
   "id": "e8503474",
   "metadata": {},
   "outputs": [],
   "source": [
    "def LCS4 (a,b,m,n):\n",
    "    \n",
    "    # 2d matrix\n",
    "    t = [[-1 for i in range (n+1)] for j in range (m+1)]\n",
    "    \n",
    "    # Matrix initialization\n",
    "    for i in range(m+1):\n",
    "        for j in range(n+1):\n",
    "            if (i==0 or j==0):\n",
    "                t[i][j] = 0\n",
    "    \n",
    "    # Filling the values\n",
    "    for i in range (m+1):\n",
    "        for j in range(n+1):\n",
    "            if (a[i-1] == b[j-1]):\n",
    "                t[i][j] = 1 + t[i-1][j-1]\n",
    "            else:\n",
    "                t[i][j] = max(t[i][j-1] , t[i-1][j])\n",
    "    \n",
    "    return t[-1][-1]"
   ]
  },
  {
   "cell_type": "code",
   "execution_count": 17,
   "id": "b30b400e",
   "metadata": {},
   "outputs": [
    {
     "data": {
      "text/plain": [
       "5"
      ]
     },
     "execution_count": 17,
     "metadata": {},
     "output_type": "execute_result"
    }
   ],
   "source": [
    "a = \"abcdhe\"\n",
    "b = \"pbfcdhe\"\n",
    "LCS4 (a , b , len(a) , len(b))"
   ]
  },
  {
   "cell_type": "markdown",
   "id": "89f27c2a",
   "metadata": {},
   "source": [
    "Remember the most important part of the code for LCS type questions is:\n",
    "<code>\n",
    "if (a[i-1] == b[j-1]):\n",
    "                t[i][j] = 1 + t[i-1][j-1]\n",
    "            else:\n",
    "                t[i][j] = max(t[i][j-1] , t[i-1][j])\n",
    "</code>\n",
    "We will just do some small changes for other questions. Check for the questions below"
   ]
  },
  {
   "cell_type": "markdown",
   "id": "c1c1b3cb",
   "metadata": {},
   "source": [
    "# 2. Longest Common Substring"
   ]
  },
  {
   "cell_type": "markdown",
   "id": "5a6f130f",
   "metadata": {},
   "source": [
    "- Sub Sequence -- It is directional and the string may or maynot be continuous\n",
    "- Sub String -- It is directional and also the strings must be continuous"
   ]
  },
  {
   "cell_type": "markdown",
   "id": "391583a6",
   "metadata": {},
   "source": [
    "We just need to reset the result to 0 once the string doesn't match"
   ]
  },
  {
   "cell_type": "markdown",
   "id": "cd23547e",
   "metadata": {},
   "source": [
    "### Recursion"
   ]
  },
  {
   "cell_type": "code",
   "execution_count": 33,
   "id": "41684c59",
   "metadata": {},
   "outputs": [],
   "source": [
    "def LCSS ( a , b , m , n , res):\n",
    "    \n",
    "    # Base case\n",
    "    if ( m == 0 or n == 0 ):\n",
    "        return res\n",
    "    \n",
    "    if ( a[ m - 1 ] == b[ n - 1] ):\n",
    "        return LCSS ( a , b , m - 1 , n - 1 , res+1)\n",
    "    else:\n",
    "        p = LCSS ( a , b , m - 1 , n , 0 )\n",
    "        q = LCSS ( a , b , m , n - 1 , 0 )\n",
    "        \n",
    "        return ( max ( res , p , q) )"
   ]
  },
  {
   "cell_type": "code",
   "execution_count": 34,
   "id": "a2f71884",
   "metadata": {},
   "outputs": [
    {
     "data": {
      "text/plain": [
       "2"
      ]
     },
     "execution_count": 34,
     "metadata": {},
     "output_type": "execute_result"
    }
   ],
   "source": [
    "a , b = \"abcde\" , \"abfd\"\n",
    "LCSS( a , b , len(a) , len(b) , 0)"
   ]
  },
  {
   "cell_type": "markdown",
   "id": "bf41893d",
   "metadata": {},
   "source": [
    "### Top Down"
   ]
  },
  {
   "cell_type": "code",
   "execution_count": 65,
   "id": "fe3e4cb9",
   "metadata": {},
   "outputs": [],
   "source": [
    "def LCSS2 ( a , b , m , n):\n",
    "    \n",
    "    t = [ [ -1 for i in range ( n + 1 ) ] for j in range ( m + 1 ) ]\n",
    "    \n",
    "    # Initilization\n",
    "    for i in range ( m + 1 ):\n",
    "        for j in range ( n + 1 ):\n",
    "            if (i == 0 or j == 0):\n",
    "                t[i][j] = 0\n",
    "            \n",
    "    # Filling table\n",
    "    for i in range(m+1):\n",
    "        for j in range(n+1):\n",
    "            if (a [ i - 1 ] == b [ j - 1 ]):\n",
    "                t[i][j] = 1 + t[i-1][j-1]\n",
    "            else:\n",
    "                t[i][j] = 0\n",
    "    \n",
    "    res = 0\n",
    "    for i in range (m+1):\n",
    "        for j in range (n+1):\n",
    "            res = max(res,t[i][j])\n",
    "            \n",
    "    return res\n",
    "    \n",
    "    "
   ]
  },
  {
   "cell_type": "code",
   "execution_count": 66,
   "id": "51e8c7d4",
   "metadata": {},
   "outputs": [
    {
     "data": {
      "text/plain": [
       "3"
      ]
     },
     "execution_count": 66,
     "metadata": {},
     "output_type": "execute_result"
    }
   ],
   "source": [
    "a , b = \"abcde\" , \"abcfde\"\n",
    "LCSS2 ( a , b , len(a) , len(b))"
   ]
  },
  {
   "cell_type": "markdown",
   "id": "d2fce914",
   "metadata": {},
   "source": [
    "# 3. Print Longest Common Subsequence"
   ]
  },
  {
   "cell_type": "markdown",
   "id": "40ac9245",
   "metadata": {},
   "source": [
    "This is same as LCS problem. Here you just to backtrack from the table that is populated using dynamic programming."
   ]
  },
  {
   "cell_type": "code",
   "execution_count": null,
   "id": "fc864927",
   "metadata": {},
   "outputs": [],
   "source": []
  },
  {
   "cell_type": "code",
   "execution_count": null,
   "id": "505cc1c5",
   "metadata": {},
   "outputs": [],
   "source": []
  },
  {
   "cell_type": "code",
   "execution_count": null,
   "id": "2e5bb0f9",
   "metadata": {},
   "outputs": [],
   "source": []
  },
  {
   "cell_type": "code",
   "execution_count": null,
   "id": "8be2d168",
   "metadata": {},
   "outputs": [],
   "source": []
  },
  {
   "cell_type": "code",
   "execution_count": null,
   "id": "2cbff443",
   "metadata": {},
   "outputs": [],
   "source": []
  },
  {
   "cell_type": "code",
   "execution_count": null,
   "id": "e4ae1d8f",
   "metadata": {},
   "outputs": [],
   "source": []
  },
  {
   "cell_type": "code",
   "execution_count": null,
   "id": "f35a7fa3",
   "metadata": {},
   "outputs": [],
   "source": []
  }
 ],
 "metadata": {
  "kernelspec": {
   "display_name": "Python 3 (ipykernel)",
   "language": "python",
   "name": "python3"
  },
  "language_info": {
   "codemirror_mode": {
    "name": "ipython",
    "version": 3
   },
   "file_extension": ".py",
   "mimetype": "text/x-python",
   "name": "python",
   "nbconvert_exporter": "python",
   "pygments_lexer": "ipython3",
   "version": "3.9.12"
  }
 },
 "nbformat": 4,
 "nbformat_minor": 5
}
