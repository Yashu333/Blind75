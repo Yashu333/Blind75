{
 "cells": [
  {
   "cell_type": "markdown",
   "id": "a45cc490",
   "metadata": {},
   "source": [
    "# 16. Valid Parentheses"
   ]
  },
  {
   "cell_type": "markdown",
   "id": "e3ea2883",
   "metadata": {},
   "source": [
    "Given a string s containing just the characters '(', ')', '{', '}', '[' and ']', determine if the input string is valid.\n",
    "\n",
    "An input string is valid if:\n",
    "\n",
    "Open brackets must be closed by the same type of brackets.\n",
    "Open brackets must be closed in the correct order.\n",
    "Every close bracket has a corresponding open bracket of the same type.\n",
    " \n",
    "\n",
    "Example 1:\n",
    "\n",
    "Input: s = \"()\"\n",
    "\n",
    "Output: true\n",
    "\n",
    "Example 2:\n",
    "\n",
    "Input: s = \"()[]{}\"\n",
    "\n",
    "Output: true\n",
    "\n",
    "Example 3:\n",
    "\n",
    "Input: s = \"(]\"\n",
    "\n",
    "Output: false\n",
    "\n",
    "Example 4:\n",
    "\n",
    "Input: s = \"([])\"\n",
    "\n",
    "Output: true\n",
    "\n",
    " \n",
    "\n",
    "Constraints:\n",
    "\n",
    "1 <= s.length <= 104\n",
    "s consists of parentheses only '()[]{}'."
   ]
  },
  {
   "cell_type": "code",
   "execution_count": 66,
   "id": "bb2921a2",
   "metadata": {},
   "outputs": [],
   "source": [
    "#Brute Force algorithm - remove the pair after everytime you find matching brackets.\n",
    "#In the end if s == \"\", then all the brackets are matched so True else not"
   ]
  },
  {
   "cell_type": "code",
   "execution_count": 67,
   "id": "b702651c",
   "metadata": {},
   "outputs": [],
   "source": [
    "def isValid(s):\n",
    "    \n",
    "    openBrackets = [ \"(\" , \"[\" , \"{\" ]\n",
    "    matchingBrackets = { \")\":\"(\" , \"]\":\"[\" , \"}\":\"{\"}\n",
    "    stack = []\n",
    "    \n",
    "    for bracket in s:\n",
    "        #Add to brackets if it is open Bracket\n",
    "        if (bracket in openBrackets):\n",
    "            stack.append(bracket)\n",
    "        \n",
    "        #If you find a closing bracket, check if the the stack exists and if it matches with last bracket with stack\n",
    "        elif (stack and matchingBrackets[bracket] == stack[-1] ):\n",
    "            stack.pop()\n",
    "        else:\n",
    "            return (False)\n",
    "    \n",
    "    # if stack is empty then all the parantheses are matched else not\n",
    "    return (False if stack else True)"
   ]
  },
  {
   "cell_type": "code",
   "execution_count": 68,
   "id": "4f727377",
   "metadata": {},
   "outputs": [
    {
     "data": {
      "text/plain": [
       "False"
      ]
     },
     "execution_count": 68,
     "metadata": {},
     "output_type": "execute_result"
    }
   ],
   "source": [
    "isValid(\"([])}\")"
   ]
  },
  {
   "cell_type": "code",
   "execution_count": null,
   "id": "685334a1",
   "metadata": {},
   "outputs": [],
   "source": []
  }
 ],
 "metadata": {
  "kernelspec": {
   "display_name": "Python 3",
   "language": "python",
   "name": "python3"
  },
  "language_info": {
   "codemirror_mode": {
    "name": "ipython",
    "version": 3
   },
   "file_extension": ".py",
   "mimetype": "text/x-python",
   "name": "python",
   "nbconvert_exporter": "python",
   "pygments_lexer": "ipython3",
   "version": "3.8.8"
  }
 },
 "nbformat": 4,
 "nbformat_minor": 5
}
