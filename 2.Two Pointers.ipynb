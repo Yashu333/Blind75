{
 "cells": [
  {
   "cell_type": "markdown",
   "id": "f273b5e6",
   "metadata": {},
   "source": [
    "# 1. Valid Palindrome"
   ]
  },
  {
   "cell_type": "markdown",
   "id": "db51defe",
   "metadata": {},
   "source": [
    "A phrase is a palindrome if, after converting all uppercase letters into lowercase letters and removing all non-alphanumeric characters, it reads the same forward and backward. Alphanumeric characters include letters and numbers.\n",
    "\n",
    "Given a string s, return true if it is a palindrome, or false otherwise.\n",
    "\n",
    " \n",
    "\n",
    "Example 1:\n",
    "\n",
    "Input: s = \"A man, a plan, a canal: Panama\"\n",
    "Output: true\n",
    "Explanation: \"amanaplanacanalpanama\" is a palindrome.\n",
    "Example 2:\n",
    "\n",
    "Input: s = \"race a car\"\n",
    "Output: false\n",
    "Explanation: \"raceacar\" is not a palindrome.\n",
    "Example 3:\n",
    "\n",
    "Input: s = \" \"\n",
    "Output: true\n",
    "Explanation: s is an empty string \"\" after removing non-alphanumeric characters.\n",
    "Since an empty string reads the same forward and backward, it is a palindrome.\n",
    " \n",
    "\n",
    "Constraints:\n",
    "\n",
    "1 <= s.length <= 2 * 105\n",
    "s consists only of printable ASCII characters."
   ]
  },
  {
   "cell_type": "code",
   "execution_count": 12,
   "id": "8d8b0b06",
   "metadata": {},
   "outputs": [],
   "source": [
    "# Brute Force - lower the string, remove all non alpha numeric characters, reverse the string and compare it to the input"
   ]
  },
  {
   "cell_type": "code",
   "execution_count": 13,
   "id": "57ef36ec",
   "metadata": {},
   "outputs": [],
   "source": [
    "#Some Optimized Solution - Lower the string, remove all non alpha numeric characters, use two pointer approach"
   ]
  },
  {
   "cell_type": "code",
   "execution_count": 14,
   "id": "0d2f0022",
   "metadata": {},
   "outputs": [],
   "source": [
    "# Only lowering the string, and using two pointer approach"
   ]
  },
  {
   "cell_type": "code",
   "execution_count": 33,
   "id": "aaf9be45",
   "metadata": {},
   "outputs": [],
   "source": [
    "def isPalindrome(s):\n",
    "    \n",
    "    # Emtpy string is a palindrome\n",
    "    if ( s == \" \" ):\n",
    "        return (True)\n",
    "    \n",
    "    # Two pointers\n",
    "    i , j = 0 , len(s) - 1\n",
    "    # Change it into lower case\n",
    "    s = s.lower()\n",
    "    \n",
    "    # Use i pointer from start and j from end until the mid point \n",
    "    while ( i <= j):\n",
    "        #isalnum() return true if the string is alpha numeric\n",
    "        if ( s[i].isalnum() == False ):\n",
    "            i = i + 1\n",
    "        elif (s[j].isalnum() == False):\n",
    "            j = j - 1\n",
    "        elif (s[i] == s[j]):\n",
    "            i , j = i+1, j-1\n",
    "        # Return false if the two characters doesn't match\n",
    "        else:\n",
    "            return (False)\n",
    "    \n",
    "    # Return the output once you compared all characters\n",
    "    return (True)"
   ]
  },
  {
   "cell_type": "code",
   "execution_count": 34,
   "id": "ea054771",
   "metadata": {},
   "outputs": [
    {
     "data": {
      "text/plain": [
       "True"
      ]
     },
     "execution_count": 34,
     "metadata": {},
     "output_type": "execute_result"
    }
   ],
   "source": [
    "isPalindrome(\"malayalam\")"
   ]
  },
  {
   "cell_type": "code",
   "execution_count": 44,
   "id": "a993b20a",
   "metadata": {},
   "outputs": [
    {
     "data": {
      "text/plain": [
       "True"
      ]
     },
     "execution_count": 44,
     "metadata": {},
     "output_type": "execute_result"
    }
   ],
   "source": [
    "isPalindrome(\"A man, a plan, a canal: Panama\")"
   ]
  },
  {
   "cell_type": "code",
   "execution_count": 45,
   "id": "deb1b844",
   "metadata": {},
   "outputs": [
    {
     "data": {
      "text/plain": [
       "False"
      ]
     },
     "execution_count": 45,
     "metadata": {},
     "output_type": "execute_result"
    }
   ],
   "source": [
    "isPalindrome(\"race a car\")"
   ]
  },
  {
   "cell_type": "code",
   "execution_count": null,
   "id": "da522a65",
   "metadata": {},
   "outputs": [],
   "source": []
  },
  {
   "cell_type": "code",
   "execution_count": null,
   "id": "2623aac5",
   "metadata": {},
   "outputs": [],
   "source": []
  },
  {
   "cell_type": "code",
   "execution_count": null,
   "id": "b89861e5",
   "metadata": {},
   "outputs": [],
   "source": []
  },
  {
   "cell_type": "code",
   "execution_count": null,
   "id": "cd4b15a8",
   "metadata": {},
   "outputs": [],
   "source": []
  },
  {
   "cell_type": "code",
   "execution_count": null,
   "id": "237c4ab4",
   "metadata": {},
   "outputs": [],
   "source": []
  },
  {
   "cell_type": "code",
   "execution_count": null,
   "id": "3f3c51b6",
   "metadata": {},
   "outputs": [],
   "source": []
  },
  {
   "cell_type": "code",
   "execution_count": null,
   "id": "f81a5868",
   "metadata": {},
   "outputs": [],
   "source": []
  }
 ],
 "metadata": {
  "kernelspec": {
   "display_name": "Python 3",
   "language": "python",
   "name": "python3"
  },
  "language_info": {
   "codemirror_mode": {
    "name": "ipython",
    "version": 3
   },
   "file_extension": ".py",
   "mimetype": "text/x-python",
   "name": "python",
   "nbconvert_exporter": "python",
   "pygments_lexer": "ipython3",
   "version": "3.8.8"
  }
 },
 "nbformat": 4,
 "nbformat_minor": 5
}
