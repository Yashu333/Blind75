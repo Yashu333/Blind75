{
 "cells": [
  {
   "cell_type": "markdown",
   "id": "777d43a7",
   "metadata": {},
   "source": [
    "# 12. Best Time to Buy and Sell Stocks"
   ]
  },
  {
   "cell_type": "markdown",
   "id": "f2646928",
   "metadata": {},
   "source": [
    "You are given an array prices where prices[i] is the price of a given stock on the ith day.\n",
    "\n",
    "You want to maximize your profit by choosing a single day to buy one stock and choosing a different day in the future to sell that stock.\n",
    "\n",
    "Return the maximum profit you can achieve from this transaction. If you cannot achieve any profit, return 0.\n",
    "\n",
    " \n",
    "\n",
    "Example 1:\n",
    "\n",
    "Input: prices = [7,1,5,3,6,4]\n",
    "<br>\n",
    "Output: 5\n",
    "<br>\n",
    "Explanation: Buy on day 2 (price = 1) and sell on day 5 (price = 6), profit = 6-1 = 5.\n",
    "Note that buying on day 2 and selling on day 1 is not allowed because you must buy before you sell.\n",
    "\n",
    "\n",
    "Example 2:\n",
    "<br>\n",
    "Input: prices = [7,6,4,3,1]\n",
    "<br>\n",
    "Output: 0\n",
    "<br>\n",
    "Explanation: In this case, no transactions are done and the max profit = 0.\n",
    " \n",
    "\n",
    "Constraints:\n",
    "\n",
    "1 <= prices.length <= 105\n",
    "0 <= prices[i] <= 104"
   ]
  },
  {
   "cell_type": "code",
   "execution_count": 10,
   "id": "8cc42243",
   "metadata": {},
   "outputs": [],
   "source": [
    "# Brute Force - Use loop twice and calculate profit at each interval and update the max profit"
   ]
  },
  {
   "cell_type": "code",
   "execution_count": 11,
   "id": "3e4813dd",
   "metadata": {},
   "outputs": [],
   "source": [
    "def maxProfit(prices):\n",
    "    \n",
    "    maximumProfit = 0\n",
    "    # initializing pointers\n",
    "    l , r = 0 , 1\n",
    "    \n",
    "    #Sliding window until the end of list\n",
    "    while ( l < len(prices) and r < len(prices) ):\n",
    "        \n",
    "        # Calculate current profit if selling price is higher\n",
    "        if ( prices[r] > prices[l] ):\n",
    "            \n",
    "            currentProfit = prices[r] - prices[l]\n",
    "            maximumProfit = max(maximumProfit, currentProfit)\n",
    "            \n",
    "            #Continue to check other selling prices\n",
    "            r = r + 1\n",
    "        \n",
    "        # If you found a lowest buying price, shift the window\n",
    "        else:\n",
    "            l = r\n",
    "            r = l + 1\n",
    "            \n",
    "    return (maximumProfit)"
   ]
  },
  {
   "cell_type": "code",
   "execution_count": 12,
   "id": "d5c19afe",
   "metadata": {},
   "outputs": [
    {
     "data": {
      "text/plain": [
       "5"
      ]
     },
     "execution_count": 12,
     "metadata": {},
     "output_type": "execute_result"
    }
   ],
   "source": [
    "maxProfit([7,1,5,3,6,4])"
   ]
  },
  {
   "cell_type": "code",
   "execution_count": 13,
   "id": "c2330937",
   "metadata": {},
   "outputs": [
    {
     "data": {
      "text/plain": [
       "0"
      ]
     },
     "execution_count": 13,
     "metadata": {},
     "output_type": "execute_result"
    }
   ],
   "source": [
    "maxProfit([7,6,4,3,1])"
   ]
  },
  {
   "cell_type": "code",
   "execution_count": null,
   "id": "82d2cf08",
   "metadata": {},
   "outputs": [],
   "source": []
  },
  {
   "cell_type": "code",
   "execution_count": null,
   "id": "71835bf2",
   "metadata": {},
   "outputs": [],
   "source": []
  },
  {
   "cell_type": "code",
   "execution_count": null,
   "id": "31a2121a",
   "metadata": {},
   "outputs": [],
   "source": []
  },
  {
   "cell_type": "code",
   "execution_count": null,
   "id": "9bcb5d55",
   "metadata": {},
   "outputs": [],
   "source": []
  },
  {
   "cell_type": "code",
   "execution_count": null,
   "id": "a6c7a38c",
   "metadata": {},
   "outputs": [],
   "source": []
  },
  {
   "cell_type": "code",
   "execution_count": null,
   "id": "5b18c75f",
   "metadata": {},
   "outputs": [],
   "source": []
  },
  {
   "cell_type": "code",
   "execution_count": null,
   "id": "afbf855d",
   "metadata": {},
   "outputs": [],
   "source": []
  },
  {
   "cell_type": "code",
   "execution_count": null,
   "id": "7f01968f",
   "metadata": {},
   "outputs": [],
   "source": []
  },
  {
   "cell_type": "code",
   "execution_count": null,
   "id": "7170e579",
   "metadata": {},
   "outputs": [],
   "source": []
  },
  {
   "cell_type": "code",
   "execution_count": null,
   "id": "f8325319",
   "metadata": {},
   "outputs": [],
   "source": []
  },
  {
   "cell_type": "code",
   "execution_count": null,
   "id": "44e540ab",
   "metadata": {},
   "outputs": [],
   "source": []
  }
 ],
 "metadata": {
  "kernelspec": {
   "display_name": "Python 3",
   "language": "python",
   "name": "python3"
  },
  "language_info": {
   "codemirror_mode": {
    "name": "ipython",
    "version": 3
   },
   "file_extension": ".py",
   "mimetype": "text/x-python",
   "name": "python",
   "nbconvert_exporter": "python",
   "pygments_lexer": "ipython3",
   "version": "3.8.8"
  }
 },
 "nbformat": 4,
 "nbformat_minor": 5
}
