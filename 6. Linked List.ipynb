{
 "cells": [
  {
   "cell_type": "markdown",
   "id": "e4261992",
   "metadata": {},
   "source": [
    "# 19. Reverse a Linked List"
   ]
  },
  {
   "cell_type": "markdown",
   "id": "8516c04e",
   "metadata": {},
   "source": [
    "Given the head of a singly linked list, reverse the list, and return the reversed list.\n",
    "\n",
    " \n",
    "\n",
    "Example 1:\n",
    "\n",
    "\n",
    "Input: head = [1,2,3,4,5]\n",
    "Output: [5,4,3,2,1]\n",
    "Example 2:\n",
    "\n",
    "\n",
    "Input: head = [1,2]\n",
    "Output: [2,1]\n",
    "Example 3:\n",
    "\n",
    "Input: head = []\n",
    "Output: []\n",
    " \n",
    "\n",
    "Constraints:\n",
    "\n",
    "The number of nodes in the list is the range [0, 5000].\n",
    "-5000 <= Node.val <= 5000\n",
    " \n",
    "\n",
    "Follow up: A linked list can be reversed either iteratively or recursively. Could you implement both?"
   ]
  },
  {
   "cell_type": "code",
   "execution_count": 5,
   "id": "de07da70",
   "metadata": {},
   "outputs": [],
   "source": [
    "class ListNode:\n",
    "    def __init__(self, value=0, next=None):\n",
    "        self.value = value\n",
    "        self.next = next\n",
    "\n",
    "def reverseList(head):\n",
    "    \n",
    "    curr , prev = head , None\n",
    "    \n",
    "    # Link each node in reverse order until the end and return the last element\n",
    "    while (curr):\n",
    "        temp = curr.next\n",
    "        curr.next = prev\n",
    "        prev = curr\n",
    "        curr = temp\n",
    "        \n",
    "    return (prev)"
   ]
  },
  {
   "cell_type": "code",
   "execution_count": 8,
   "id": "340ec133",
   "metadata": {},
   "outputs": [
    {
     "name": "stdout",
     "output_type": "stream",
     "text": [
      "4 -> 3 -> 2 -> 1\n"
     ]
    }
   ],
   "source": [
    "# Creating a linked list: 1 -> 2 -> 3 -> 4\n",
    "head = ListNode(1)\n",
    "head.next = ListNode(2)\n",
    "head.next.next = ListNode(3)\n",
    "head.next.next.next = ListNode(4)\n",
    "\n",
    "# Reversing the linked list\n",
    "new_head = reverseList(head)\n",
    "\n",
    "# Printing the reversed linked list: 4 -> 3 -> 2 -> 1\n",
    "curr = new_head\n",
    "while curr:\n",
    "    print(curr.value, end=\" -> \" if curr.next else \"\\n\")\n",
    "    curr = curr.next"
   ]
  },
  {
   "cell_type": "markdown",
   "id": "aff47622",
   "metadata": {},
   "source": [
    "# 20. Merge Two Sorted Lists"
   ]
  },
  {
   "cell_type": "markdown",
   "id": "b966a23e",
   "metadata": {},
   "source": [
    "You are given the heads of two sorted linked lists list1 and list2.\n",
    "\n",
    "Merge the two lists into one sorted list. The list should be made by splicing together the nodes of the first two lists.\n",
    "\n",
    "Return the head of the merged linked list.\n",
    "\n",
    " \n",
    "\n",
    "Example 1:\n",
    "\n",
    "\n",
    "Input: list1 = [1,2,4], list2 = [1,3,4]\n",
    "Output: [1,1,2,3,4,4]\n",
    "Example 2:\n",
    "\n",
    "Input: list1 = [], list2 = []\n",
    "Output: []\n",
    "Example 3:\n",
    "\n",
    "Input: list1 = [], list2 = [0]\n",
    "Output: [0]\n",
    " \n",
    "\n",
    "Constraints:\n",
    "\n",
    "The number of nodes in both lists is in the range [0, 50].\n",
    "-100 <= Node.val <= 100\n",
    "Both list1 and list2 are sorted in non-decreasing order."
   ]
  },
  {
   "cell_type": "code",
   "execution_count": 15,
   "id": "7f478305",
   "metadata": {},
   "outputs": [],
   "source": [
    "class ListNode:\n",
    "    def __init__(self, val=0, next=None):\n",
    "        self.val = val\n",
    "        self.next = next\n",
    "        \n",
    "        \n",
    "def mergeTwoLists(list1 , list2):\n",
    "    \n",
    "    #Dummy nodes for handlling edge cases\n",
    "    dummy = ListNode()\n",
    "    \n",
    "    # To traverse, we can use dummy, but at the end we should return dummy.next\n",
    "    current = dummy\n",
    "    \n",
    "    while list1 and list2:\n",
    "        \n",
    "        # Append lowest value and move the pointers.\n",
    "        if (list1.val <= list2.val):\n",
    "            current.next = list1\n",
    "            list1 = list1.next\n",
    "        else:\n",
    "            current.next = list2\n",
    "            list2 = list2.next\n",
    "        \n",
    "        # Move to the latest position\n",
    "        current = current.next\n",
    "        \n",
    "    # Remaining nodes from l1 or l2\n",
    "    current.next = list1 if list1 else list2\n",
    "    \n",
    "    return (dummy.next)"
   ]
  },
  {
   "cell_type": "code",
   "execution_count": 17,
   "id": "850bafb4",
   "metadata": {},
   "outputs": [
    {
     "name": "stdout",
     "output_type": "stream",
     "text": [
      "Merged List:\n",
      "1 -> 2 -> 3 -> 4 -> 5 -> 6 -> None\n"
     ]
    }
   ],
   "source": [
    "# Helper function to create a linked list from a Python list\n",
    "def create_linked_list(elements):\n",
    "    dummy = ListNode()\n",
    "    current = dummy\n",
    "    for el in elements:\n",
    "        current.next = ListNode(el)\n",
    "        current = current.next\n",
    "    return dummy.next\n",
    "\n",
    "# Helper function to print a linked list\n",
    "def print_linked_list(head):\n",
    "    current = head\n",
    "    while current:\n",
    "        print(current.val, end=\" -> \")\n",
    "        current = current.next\n",
    "    print(\"None\")\n",
    "\n",
    "# Test the function\n",
    "list1 = create_linked_list([1, 3, 5])\n",
    "list2 = create_linked_list([2, 4, 6])\n",
    "merged_list = mergeTwoLists(list1, list2)\n",
    "print(\"Merged List:\")\n",
    "print_linked_list(merged_list)"
   ]
  },
  {
   "cell_type": "markdown",
   "id": "e2304d03",
   "metadata": {},
   "source": [
    "# 21. Reorder List"
   ]
  },
  {
   "cell_type": "markdown",
   "id": "f6fb552d",
   "metadata": {},
   "source": [
    "You are given the head of a singly linked-list. The list can be represented as:\n",
    "\n",
    "L0 → L1 → … → Ln - 1 → Ln\n",
    "Reorder the list to be on the following form:\n",
    "\n",
    "L0 → Ln → L1 → Ln - 1 → L2 → Ln - 2 → …\n",
    "You may not modify the values in the list's nodes. Only nodes themselves may be changed.\n",
    "\n",
    " \n",
    "\n",
    "Example 1:\n",
    "\n",
    "\n",
    "Input: head = [1,2,3,4]\n",
    "Output: [1,4,2,3]\n",
    "Example 2:\n",
    "\n",
    "\n",
    "Input: head = [1,2,3,4,5]\n",
    "Output: [1,5,2,4,3]\n",
    " \n",
    "\n",
    "Constraints:\n",
    "\n",
    "The number of nodes in the list is in the range [1, 5 * 104].\n",
    "1 <= Node.val <= 1000"
   ]
  },
  {
   "cell_type": "code",
   "execution_count": 29,
   "id": "d6068660",
   "metadata": {},
   "outputs": [],
   "source": [
    "class ListNode:\n",
    "    def __init__(self, val=0, next=None):\n",
    "        self.val = val\n",
    "        self.next = next"
   ]
  },
  {
   "cell_type": "code",
   "execution_count": 38,
   "id": "10462e13",
   "metadata": {},
   "outputs": [],
   "source": [
    "def reorderList(head):\n",
    "    \n",
    "    slow, fast = head, head\n",
    "    \n",
    "    # Find mid point by using fast and slow pointers\n",
    "    while fast and fast.next:\n",
    "        slow = slow.next\n",
    "        fast = fast.next.next\n",
    "    \n",
    "    #Cutting the second half and reversing the second half\n",
    "    second_half = slow.next\n",
    "    slow.next = None\n",
    "    prev = None\n",
    "    while (second_half):\n",
    "        temp = second_half.next\n",
    "        second_half.next = prev\n",
    "        prev = second_half\n",
    "        second_half = temp\n",
    "  \n",
    "    # Merging both halves\n",
    "    first , second = head , prev\n",
    "    while (second):\n",
    "        temp1, temp2 = first.next , second.next\n",
    "        first.next = second\n",
    "        second.next = temp1\n",
    "        first, second = temp1, temp2\n",
    "    \n",
    "    return (head)"
   ]
  },
  {
   "cell_type": "code",
   "execution_count": 39,
   "id": "2281874c",
   "metadata": {},
   "outputs": [
    {
     "name": "stdout",
     "output_type": "stream",
     "text": [
      "1 -> 8 -> 2 -> 7 -> 3 -> 6 -> 4 -> 5\n"
     ]
    }
   ],
   "source": [
    "head = ListNode(1)\n",
    "head.next = ListNode(2)\n",
    "head.next.next = ListNode(3)\n",
    "head.next.next.next = ListNode(4)\n",
    "head.next.next.next.next = ListNode(5)\n",
    "head.next.next.next.next.next = ListNode(6)\n",
    "head.next.next.next.next.next.next = ListNode(7)\n",
    "head.next.next.next.next.next.next.next = ListNode(8)\n",
    "\n",
    "# Reordering the linked list\n",
    "new_head = reorderList(head)\n",
    "\n",
    "# Printing the reordered linked list: Expected output: 1 -> 6 -> 2 -> 5 -> 3 -> 4\n",
    "curr = new_head\n",
    "while curr:\n",
    "    print(curr.val, end=\" -> \" if curr.next else \"\\n\")\n",
    "    curr = curr.next\n"
   ]
  },
  {
   "cell_type": "code",
   "execution_count": null,
   "id": "d8c593fd",
   "metadata": {},
   "outputs": [],
   "source": []
  },
  {
   "cell_type": "code",
   "execution_count": null,
   "id": "30b6b14e",
   "metadata": {},
   "outputs": [],
   "source": []
  }
 ],
 "metadata": {
  "kernelspec": {
   "display_name": "Python 3",
   "language": "python",
   "name": "python3"
  },
  "language_info": {
   "codemirror_mode": {
    "name": "ipython",
    "version": 3
   },
   "file_extension": ".py",
   "mimetype": "text/x-python",
   "name": "python",
   "nbconvert_exporter": "python",
   "pygments_lexer": "ipython3",
   "version": "3.8.8"
  }
 },
 "nbformat": 4,
 "nbformat_minor": 5
}
