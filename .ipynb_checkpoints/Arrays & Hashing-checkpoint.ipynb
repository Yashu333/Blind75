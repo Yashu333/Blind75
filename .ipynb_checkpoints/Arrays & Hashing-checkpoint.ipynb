{
 "cells": [
  {
   "cell_type": "markdown",
   "id": "3a8ee65a",
   "metadata": {},
   "source": [
    "# 1. Contains Duplicate"
   ]
  },
  {
   "cell_type": "markdown",
   "id": "86ccf34d",
   "metadata": {},
   "source": [
    "Given an integer array nums, return true if any value appears at least twice in the array, and return false if every element is distinct.\n",
    "\n",
    " \n",
    "\n",
    "Example 1:\n",
    "\n",
    "Input: nums = [1,2,3,1]\n",
    "Output: true\n",
    "\n",
    "Example 2:\n",
    "\n",
    "Input: nums = [1,2,3,4]\n",
    "Output: false\n",
    "\n",
    "Example 3:\n",
    "\n",
    "Input: nums = [1,1,1,3,3,4,3,2,4,2]\n",
    "Output: true"
   ]
  },
  {
   "cell_type": "code",
   "execution_count": 5,
   "id": "dd4e4b80",
   "metadata": {},
   "outputs": [],
   "source": [
    "# Easy - HashSet"
   ]
  },
  {
   "cell_type": "code",
   "execution_count": 2,
   "id": "44abe6c5",
   "metadata": {},
   "outputs": [],
   "source": [
    "def containsDuplicate(nums):\n",
    "    hash_set = set()\n",
    "    for num in nums:\n",
    "        if (num in hash_set):\n",
    "            return (True)\n",
    "        else:\n",
    "            hash_set.add(num)\n",
    "    return (False)"
   ]
  },
  {
   "cell_type": "code",
   "execution_count": 3,
   "id": "ee5f6336",
   "metadata": {},
   "outputs": [
    {
     "data": {
      "text/plain": [
       "True"
      ]
     },
     "execution_count": 3,
     "metadata": {},
     "output_type": "execute_result"
    }
   ],
   "source": [
    "containsDuplicate([1,2,3,1])"
   ]
  },
  {
   "cell_type": "code",
   "execution_count": 4,
   "id": "b4d793eb",
   "metadata": {},
   "outputs": [
    {
     "data": {
      "text/plain": [
       "False"
      ]
     },
     "execution_count": 4,
     "metadata": {},
     "output_type": "execute_result"
    }
   ],
   "source": [
    "containsDuplicate([1,2,3,4])"
   ]
  },
  {
   "cell_type": "markdown",
   "id": "16fa6647",
   "metadata": {},
   "source": [
    "# 2. Is Anagram?"
   ]
  },
  {
   "cell_type": "markdown",
   "id": "942ca2e5",
   "metadata": {},
   "source": [
    "Given two strings s and t, return true if t is an anagram of s, and false otherwise.\n",
    "\n",
    "An Anagram is a word or phrase formed by rearranging the letters of a different word or phrase, typically using all the original letters exactly once.\n",
    "\n",
    " \n",
    "\n",
    "Example 1:\n",
    "\n",
    "Input: s = \"anagram\", t = \"nagaram\"\n",
    "Output: true\n",
    "\n",
    "Example 2:\n",
    "\n",
    "Input: s = \"rat\", t = \"car\"\n",
    "Output: false"
   ]
  },
  {
   "cell_type": "code",
   "execution_count": 13,
   "id": "e4cafe2b",
   "metadata": {},
   "outputs": [],
   "source": [
    "def isAnagram( s: str, t: str) -> bool:\n",
    "\n",
    "        if (len(s) != len(t)):\n",
    "            return (False)\n",
    "            \n",
    "        # Hash map to track all the letters and their count\n",
    "        hash_map = {}\n",
    "\n",
    "        #Counter for word s\n",
    "        for letter in s:\n",
    "            hash_map[letter] = 1 + hash_map.get(letter,0)\n",
    "\n",
    "        #Checking if t!=s\n",
    "        for letter in t:\n",
    "            if (letter not in hash_map) or (hash_map[letter] == 0):\n",
    "                return (False)\n",
    "            else:\n",
    "                hash_map[letter] -= 1\n",
    "\n",
    "        return True"
   ]
  },
  {
   "cell_type": "code",
   "execution_count": 14,
   "id": "7cd92836",
   "metadata": {},
   "outputs": [
    {
     "data": {
      "text/plain": [
       "False"
      ]
     },
     "execution_count": 14,
     "metadata": {},
     "output_type": "execute_result"
    }
   ],
   "source": [
    "isAnagram(\"cata\",\"taco\")"
   ]
  },
  {
   "cell_type": "code",
   "execution_count": 15,
   "id": "f01b9bab",
   "metadata": {},
   "outputs": [
    {
     "data": {
      "text/plain": [
       "True"
      ]
     },
     "execution_count": 15,
     "metadata": {},
     "output_type": "execute_result"
    }
   ],
   "source": [
    "isAnagram(\"anagram\",\"nagaram\")"
   ]
  },
  {
   "cell_type": "markdown",
   "id": "a478c2f0",
   "metadata": {},
   "source": [
    "# 3. Two Sum"
   ]
  },
  {
   "cell_type": "markdown",
   "id": "16268f31",
   "metadata": {},
   "source": [
    "Given an array of integers nums and an integer target, return indices of the two numbers such that they add up to target.\n",
    "\n",
    "You may assume that each input would have exactly one solution, and you may not use the same element twice.\n",
    "\n",
    "You can return the answer in any order.\n",
    "\n",
    " \n",
    "\n",
    "Example 1:\n",
    "\n",
    "Input: nums = [2,7,11,15], target = 9\n",
    "Output: [0,1]\n",
    "Explanation: Because nums[0] + nums[1] == 9, we return [0, 1].\n",
    "\n",
    "Example 2:\n",
    "\n",
    "Input: nums = [3,2,4], target = 6\n",
    "Output: [1,2]\n",
    "    \n",
    "Example 3:\n",
    "\n",
    "Input: nums = [3,3], target = 6\n",
    "Output: [0,1]"
   ]
  },
  {
   "cell_type": "code",
   "execution_count": 35,
   "id": "a79b34be",
   "metadata": {},
   "outputs": [],
   "source": [
    "def twoSum(nums, target):\n",
    "    nums_map = {}\n",
    "    for num in range(len(nums)):\n",
    "        to_find = target-nums[num]\n",
    "        if (to_find in nums_map):\n",
    "            return ([num,nums_map[to_find]])\n",
    "        nums_map[nums[num]] = num"
   ]
  },
  {
   "cell_type": "code",
   "execution_count": 36,
   "id": "5fbffd9b",
   "metadata": {},
   "outputs": [
    {
     "data": {
      "text/plain": [
       "[1, 0]"
      ]
     },
     "execution_count": 36,
     "metadata": {},
     "output_type": "execute_result"
    }
   ],
   "source": [
    "twoSum([2,7,11,15],9)"
   ]
  },
  {
   "cell_type": "code",
   "execution_count": 37,
   "id": "8a8aea4e",
   "metadata": {},
   "outputs": [
    {
     "data": {
      "text/plain": [
       "[2, 1]"
      ]
     },
     "execution_count": 37,
     "metadata": {},
     "output_type": "execute_result"
    }
   ],
   "source": [
    "twoSum([3,2,4],6)"
   ]
  },
  {
   "cell_type": "code",
   "execution_count": 38,
   "id": "0b3c9f90",
   "metadata": {},
   "outputs": [
    {
     "data": {
      "text/plain": [
       "[2, 0]"
      ]
     },
     "execution_count": 38,
     "metadata": {},
     "output_type": "execute_result"
    }
   ],
   "source": [
    "twoSum([-3,4,3,90],0)"
   ]
  },
  {
   "cell_type": "markdown",
   "id": "bcd3529f",
   "metadata": {},
   "source": [
    "# 4. Group Anagrams"
   ]
  },
  {
   "cell_type": "markdown",
   "id": "2dbb50c3",
   "metadata": {},
   "source": [
    "Given an array of strings strs, group the anagrams together. You can return the answer in any order.\n",
    "\n",
    "An Anagram is a word or phrase formed by rearranging the letters of a different word or phrase, typically using all the original letters exactly once.\n",
    "\n",
    " \n",
    "\n",
    "Example 1:\n",
    "\n",
    "Input: strs = [\"eat\",\"tea\",\"tan\",\"ate\",\"nat\",\"bat\"]\n",
    "Output: [[\"bat\"],[\"nat\",\"tan\"],[\"ate\",\"eat\",\"tea\"]]\n",
    "    \n",
    "Example 2:\n",
    "\n",
    "Input: strs = [\"\"]\n",
    "Output: [[\"\"]]\n",
    "    \n",
    "Example 3:\n",
    "\n",
    "Input: strs = [\"a\"]\n",
    "Output: [[\"a\"]]"
   ]
  },
  {
   "cell_type": "code",
   "execution_count": 23,
   "id": "84bfc697",
   "metadata": {},
   "outputs": [],
   "source": [
    "from collections import defaultdict\n",
    "def groupAnagrams(strs):\n",
    "    \n",
    "    group_anagrams = defaultdict(list)\n",
    "    \n",
    "    for word in strs:\n",
    "        letter_indices = [0] * 26\n",
    "        for char in word:\n",
    "            letter_indices[ord(char)-ord(\"a\")] += 1\n",
    "        group_anagrams[tuple(letter_indices)].append(word)\n",
    "        \n",
    "    print (group_anagrams)\n",
    "    \n",
    "    return group_anagrams.values()\n",
    "            "
   ]
  },
  {
   "cell_type": "code",
   "execution_count": 24,
   "id": "087ddb85",
   "metadata": {},
   "outputs": [
    {
     "name": "stdout",
     "output_type": "stream",
     "text": [
      "defaultdict(<class 'list'>, {(1, 0, 0, 0, 1, 0, 0, 0, 0, 0, 0, 0, 0, 0, 0, 0, 0, 0, 0, 1, 0, 0, 0, 0, 0, 0): ['eat', 'tea', 'ate'], (1, 0, 0, 0, 0, 0, 0, 0, 0, 0, 0, 0, 0, 1, 0, 0, 0, 0, 0, 1, 0, 0, 0, 0, 0, 0): ['tan', 'nat'], (1, 1, 0, 0, 0, 0, 0, 0, 0, 0, 0, 0, 0, 0, 0, 0, 0, 0, 0, 1, 0, 0, 0, 0, 0, 0): ['bat']})\n"
     ]
    },
    {
     "data": {
      "text/plain": [
       "dict_values([['eat', 'tea', 'ate'], ['tan', 'nat'], ['bat']])"
      ]
     },
     "execution_count": 24,
     "metadata": {},
     "output_type": "execute_result"
    }
   ],
   "source": [
    "strs = [\"eat\",\"tea\",\"tan\",\"ate\",\"nat\",\"bat\"]\n",
    "groupAnagrams(strs)"
   ]
  },
  {
   "cell_type": "markdown",
   "id": "00bb6880",
   "metadata": {},
   "source": [
    "# 5. Top K Frequent Elements"
   ]
  },
  {
   "cell_type": "markdown",
   "id": "14a34355",
   "metadata": {},
   "source": [
    "Given an integer array nums and an integer k, return the k most frequent elements. You may return the answer in any order.\n",
    "\n",
    " \n",
    "\n",
    "Example 1:\n",
    "\n",
    "Input: nums = [1,1,1,2,2,3], k = 2\n",
    "Output: [1,2]\n",
    "    \n",
    "Example 2:\n",
    "\n",
    "Input: nums = [1], k = 1\n",
    "Output: [1]"
   ]
  },
  {
   "cell_type": "markdown",
   "id": "1eff681a",
   "metadata": {},
   "source": [
    "### Method 1: Hashmap and Heap"
   ]
  },
  {
   "cell_type": "code",
   "execution_count": 43,
   "id": "3f6cccee",
   "metadata": {},
   "outputs": [],
   "source": [
    "import heapq\n",
    "def topKFrequent(nums, k):\n",
    "    \n",
    "    number_count = dict()\n",
    "    \n",
    "    for num in nums:\n",
    "        number_count[num] = 1 + number_count.get(num,0)\n",
    "    \n",
    "    min_heap = []\n",
    "    \n",
    "    for num, freq in number_count.items():\n",
    "        \n",
    "        # Reverse the order and push to get highest frequency\n",
    "        heapq.heappush(min_heap, (freq, num))\n",
    "        \n",
    "        # if the heap size increases pop one item, in python this pops the lowest because this is min heap\n",
    "        if ( len(min_heap) > k ):\n",
    "            heapq.heappop(min_heap)\n",
    "    \n",
    "    #After the loop, the heap only has highest k elements in this format (freq,num)\n",
    "    #Print the num\n",
    "    return [num for freq,num in min_heap]"
   ]
  },
  {
   "cell_type": "code",
   "execution_count": 44,
   "id": "c2377dc6",
   "metadata": {},
   "outputs": [],
   "source": [
    "a=topKFrequent( [1,1,1,2,2,3,3,3,3],2)"
   ]
  },
  {
   "cell_type": "code",
   "execution_count": 45,
   "id": "7dd0f719",
   "metadata": {},
   "outputs": [
    {
     "data": {
      "text/plain": [
       "[1, 3]"
      ]
     },
     "execution_count": 45,
     "metadata": {},
     "output_type": "execute_result"
    }
   ],
   "source": [
    "a"
   ]
  },
  {
   "cell_type": "markdown",
   "id": "3fbb45f1",
   "metadata": {},
   "source": [
    "### Method 2: Bucket Sort "
   ]
  },
  {
   "cell_type": "code",
   "execution_count": 48,
   "id": "bda7851e",
   "metadata": {},
   "outputs": [],
   "source": [
    "def topKFrequent(nums, k):\n",
    "    tracker=[[] for i in range(len(nums)+1)]   \n",
    "    \n",
    "    ## At every index there will be list, we will match frequency with index\n",
    "    ## 2 occurs once, so tracker[1].append(2) like that\n",
    "    count=dict()\n",
    "        \n",
    "    for i in nums:\n",
    "        count[i]=1+count.get(i,0)\n",
    "    \n",
    "    for i,j in count.items():\n",
    "        tracker[j].append(i)\n",
    "        answer=[]\n",
    "    \n",
    "    for i in range(len(nums),-1,-1):\n",
    "        for j in tracker[i]:\n",
    "            answer.append(j)\n",
    "            if len(answer)==k:\n",
    "\n",
    "                return (answer)"
   ]
  },
  {
   "cell_type": "code",
   "execution_count": 49,
   "id": "0f5b29ab",
   "metadata": {},
   "outputs": [],
   "source": [
    "a=topKFrequent( [1,1,1,2,2,3,3,3,3],2)"
   ]
  },
  {
   "cell_type": "code",
   "execution_count": 50,
   "id": "18fe2a4e",
   "metadata": {},
   "outputs": [
    {
     "data": {
      "text/plain": [
       "[3, 1]"
      ]
     },
     "execution_count": 50,
     "metadata": {},
     "output_type": "execute_result"
    }
   ],
   "source": [
    "a"
   ]
  },
  {
   "cell_type": "markdown",
   "id": "1606545b",
   "metadata": {},
   "source": [
    "# 6. Encode and Decode"
   ]
  },
  {
   "cell_type": "markdown",
   "id": "a91381dc",
   "metadata": {},
   "source": [
    "String Encode and Decode\n",
    "Design an algorithm to encode a list of strings to a single string. The encoded string is then decoded back to the original list of strings.\n",
    "\n",
    "Please implement encode and decode\n",
    "\n",
    "Example 1:\n",
    "\n",
    "Input: [\"neet\",\"code\",\"love\",\"you\"]\n",
    "\n",
    "Output:[\"neet\",\"code\",\"love\",\"you\"]\n",
    "Example 2:\n",
    "\n",
    "Input: [\"we\",\"say\",\":\",\"yes\"]\n",
    "\n",
    "Output: [\"we\",\"say\",\":\",\"yes\"]\n",
    "Constraints:\n",
    "\n",
    "0 <= strs.length < 100\n",
    "0 <= strs[i].length < 200\n",
    "strs[i] contains only UTF-8 characters."
   ]
  },
  {
   "cell_type": "code",
   "execution_count": 2,
   "id": "ab787f89",
   "metadata": {},
   "outputs": [],
   "source": [
    "#The toughest problem is choosing the delimiter here, \n",
    "\n",
    "def encode(strs):\n",
    "\n",
    "    result = \"\"\n",
    "    # Adds every word with len, delimiter at the start, easy to decode (4#Yash3#Sai)\n",
    "    for word in strs:\n",
    "        result += str(len(word)) + \"#\" + word\n",
    "    return (result)\n",
    "\n",
    "\n",
    "def decode(s):\n",
    "\n",
    "    result , i = [] , 0\n",
    "    \n",
    "    while ( i < len(s) ):\n",
    "        \n",
    "        # Starting number can be 2 digit or more,so find the delimiter first\n",
    "        j = i\n",
    "        while (s[j] != \"#\"):\n",
    "            j = j + 1\n",
    "        \n",
    "        #slice the string from after delimiter to length of the string\n",
    "        result.append( s[ j+1 : int(s[i : j]) + j+1 ] )\n",
    "        \n",
    "        #Change the i to the next string length and continue\n",
    "        i = j + 1 + int(s[i : j])\n",
    "        \n",
    "    return result\n"
   ]
  },
  {
   "cell_type": "code",
   "execution_count": 3,
   "id": "bb219411",
   "metadata": {},
   "outputs": [
    {
     "data": {
      "text/plain": [
       "'4#neet4#code4#love3#you'"
      ]
     },
     "execution_count": 3,
     "metadata": {},
     "output_type": "execute_result"
    }
   ],
   "source": [
    "encode([\"neet\",\"code\",\"love\",\"you\"])"
   ]
  },
  {
   "cell_type": "code",
   "execution_count": 4,
   "id": "0b9c160c",
   "metadata": {},
   "outputs": [
    {
     "data": {
      "text/plain": [
       "['neet', 'code', 'love', 'you']"
      ]
     },
     "execution_count": 4,
     "metadata": {},
     "output_type": "execute_result"
    }
   ],
   "source": [
    "decode(\"4#neet4#code4#love3#you\")"
   ]
  },
  {
   "cell_type": "code",
   "execution_count": null,
   "id": "f21d9f60",
   "metadata": {},
   "outputs": [],
   "source": []
  }
 ],
 "metadata": {
  "kernelspec": {
   "display_name": "Python 3",
   "language": "python",
   "name": "python3"
  },
  "language_info": {
   "codemirror_mode": {
    "name": "ipython",
    "version": 3
   },
   "file_extension": ".py",
   "mimetype": "text/x-python",
   "name": "python",
   "nbconvert_exporter": "python",
   "pygments_lexer": "ipython3",
   "version": "3.8.8"
  }
 },
 "nbformat": 4,
 "nbformat_minor": 5
}
