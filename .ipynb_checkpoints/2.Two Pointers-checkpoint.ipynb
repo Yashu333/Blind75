{
 "cells": [
  {
   "cell_type": "markdown",
   "id": "f273b5e6",
   "metadata": {},
   "source": [
    "# 1. Valid Palindrome"
   ]
  },
  {
   "cell_type": "markdown",
   "id": "db51defe",
   "metadata": {},
   "source": [
    "A phrase is a palindrome if, after converting all uppercase letters into lowercase letters and removing all non-alphanumeric characters, it reads the same forward and backward. Alphanumeric characters include letters and numbers.\n",
    "\n",
    "Given a string s, return true if it is a palindrome, or false otherwise.\n",
    "\n",
    " \n",
    "\n",
    "Example 1:\n",
    "\n",
    "Input: s = \"A man, a plan, a canal: Panama\"\n",
    "Output: true\n",
    "Explanation: \"amanaplanacanalpanama\" is a palindrome.\n",
    "Example 2:\n",
    "\n",
    "Input: s = \"race a car\"\n",
    "Output: false\n",
    "Explanation: \"raceacar\" is not a palindrome.\n",
    "Example 3:\n",
    "\n",
    "Input: s = \" \"\n",
    "Output: true\n",
    "Explanation: s is an empty string \"\" after removing non-alphanumeric characters.\n",
    "Since an empty string reads the same forward and backward, it is a palindrome.\n",
    " \n",
    "\n",
    "Constraints:\n",
    "\n",
    "1 <= s.length <= 2 * 105\n",
    "s consists only of printable ASCII characters."
   ]
  },
  {
   "cell_type": "code",
   "execution_count": 12,
   "id": "8d8b0b06",
   "metadata": {},
   "outputs": [],
   "source": [
    "# Brute Force - lower the string, remove all non alpha numeric characters, reverse the string and compare it to the input"
   ]
  },
  {
   "cell_type": "code",
   "execution_count": 13,
   "id": "57ef36ec",
   "metadata": {},
   "outputs": [],
   "source": [
    "#Some Optimized Solution - Lower the string, remove all non alpha numeric characters, use two pointer approach"
   ]
  },
  {
   "cell_type": "code",
   "execution_count": 14,
   "id": "0d2f0022",
   "metadata": {},
   "outputs": [],
   "source": [
    "# Only lowering the string, and using two pointer approach"
   ]
  },
  {
   "cell_type": "code",
   "execution_count": 33,
   "id": "aaf9be45",
   "metadata": {},
   "outputs": [],
   "source": [
    "def isPalindrome(s):\n",
    "    \n",
    "    # Emtpy string is a palindrome\n",
    "    if ( s == \" \" ):\n",
    "        return (True)\n",
    "    \n",
    "    # Two pointers\n",
    "    i , j = 0 , len(s) - 1\n",
    "    # Change it into lower case\n",
    "    s = s.lower()\n",
    "    \n",
    "    # Use i pointer from start and j from end until the mid point \n",
    "    while ( i <= j):\n",
    "        #isalnum() return true if the string is alpha numeric\n",
    "        if ( s[i].isalnum() == False ):\n",
    "            i = i + 1\n",
    "        elif (s[j].isalnum() == False):\n",
    "            j = j - 1\n",
    "        elif (s[i] == s[j]):\n",
    "            i , j = i+1, j-1\n",
    "        # Return false if the two characters doesn't match\n",
    "        else:\n",
    "            return (False)\n",
    "    \n",
    "    # Return the output once you compared all characters\n",
    "    return (True)"
   ]
  },
  {
   "cell_type": "code",
   "execution_count": 34,
   "id": "ea054771",
   "metadata": {},
   "outputs": [
    {
     "data": {
      "text/plain": [
       "True"
      ]
     },
     "execution_count": 34,
     "metadata": {},
     "output_type": "execute_result"
    }
   ],
   "source": [
    "isPalindrome(\"malayalam\")"
   ]
  },
  {
   "cell_type": "code",
   "execution_count": 44,
   "id": "a993b20a",
   "metadata": {},
   "outputs": [
    {
     "data": {
      "text/plain": [
       "True"
      ]
     },
     "execution_count": 44,
     "metadata": {},
     "output_type": "execute_result"
    }
   ],
   "source": [
    "isPalindrome(\"A man, a plan, a canal: Panama\")"
   ]
  },
  {
   "cell_type": "code",
   "execution_count": 45,
   "id": "deb1b844",
   "metadata": {},
   "outputs": [
    {
     "data": {
      "text/plain": [
       "False"
      ]
     },
     "execution_count": 45,
     "metadata": {},
     "output_type": "execute_result"
    }
   ],
   "source": [
    "isPalindrome(\"race a car\")"
   ]
  },
  {
   "cell_type": "markdown",
   "id": "ef6b1589",
   "metadata": {},
   "source": [
    "# 2. Container with Most water"
   ]
  },
  {
   "cell_type": "markdown",
   "id": "5af00299",
   "metadata": {},
   "source": [
    "You are given an integer array height of length n. There are n vertical lines drawn such that the two endpoints of the ith line are (i, 0) and (i, height[i]).\n",
    "\n",
    "Find two lines that together with the x-axis form a container, such that the container contains the most water.\n",
    "\n",
    "Return the maximum amount of water a container can store.\n",
    "\n",
    "Notice that you may not slant the container."
   ]
  },
  {
   "cell_type": "markdown",
   "id": "6b2c7e19",
   "metadata": {},
   "source": [
    "<img src = \"https://s3-lc-upload.s3.amazonaws.com/uploads/2018/07/17/question_11.jpg\">"
   ]
  },
  {
   "cell_type": "markdown",
   "id": "2ab7a634",
   "metadata": {},
   "source": [
    "<b>Input:</b> height = [1,8,6,2,5,4,8,3,7]\n",
    "<br>\n",
    "<b>Output:</b> 49\n",
    "<br>\n",
    "<b>Explanation:</b> The above vertical lines are represented by array [1,8,6,2,5,4,8,3,7]. In this case, the max area of water (blue section) the container can contain is 49."
   ]
  },
  {
   "cell_type": "code",
   "execution_count": 9,
   "id": "237c4ab4",
   "metadata": {},
   "outputs": [],
   "source": [
    "# Brute Force - Loop twice and get each container from start like (1,8)(1,6) and so on\n",
    "# Second iteration - (8,6)(8,2)\n",
    "# Keep track of max Area"
   ]
  },
  {
   "cell_type": "code",
   "execution_count": 10,
   "id": "3f3c51b6",
   "metadata": {},
   "outputs": [],
   "source": [
    "# Optimized solution - Two pointer approach\n",
    "# Which pointer to move - We should move the shortest height to maximize the area"
   ]
  },
  {
   "cell_type": "code",
   "execution_count": 11,
   "id": "f81a5868",
   "metadata": {},
   "outputs": [],
   "source": [
    "def maxArea(height):\n",
    "    \n",
    "    maximumArea = 0\n",
    "    # Two pointers left and right at start and end position\n",
    "    i , j = 0 , len(height) - 1\n",
    "    \n",
    "    #Loop until both reach to the mid point \n",
    "    while ( i < j ):\n",
    "        \n",
    "        # Calculate area\n",
    "        currentArea = min( height[i] , height[j] ) * ( j - i )\n",
    "        maximumArea = max( maximumArea , currentArea)\n",
    "        \n",
    "        #Move the pointer with shortest container\n",
    "        if (height[i] <= height[j]):\n",
    "            i = i + 1\n",
    "        else:\n",
    "            j = j - 1\n",
    "    \n",
    "    return (maximumArea);\n",
    "        "
   ]
  },
  {
   "cell_type": "code",
   "execution_count": 12,
   "id": "b10551a8",
   "metadata": {},
   "outputs": [
    {
     "data": {
      "text/plain": [
       "49"
      ]
     },
     "execution_count": 12,
     "metadata": {},
     "output_type": "execute_result"
    }
   ],
   "source": [
    "maxArea([1,8,6,2,5,4,8,3,7])"
   ]
  },
  {
   "cell_type": "code",
   "execution_count": 13,
   "id": "8d053807",
   "metadata": {},
   "outputs": [
    {
     "data": {
      "text/plain": [
       "1"
      ]
     },
     "execution_count": 13,
     "metadata": {},
     "output_type": "execute_result"
    }
   ],
   "source": [
    "maxArea([1,1])"
   ]
  },
  {
   "cell_type": "markdown",
   "id": "beca0d77",
   "metadata": {},
   "source": [
    "# 3. Three Sum"
   ]
  },
  {
   "cell_type": "markdown",
   "id": "d2ce8a70",
   "metadata": {},
   "source": [
    "Given an integer array `nums`, return all the triplets `[nums[i], nums[j], nums[k]]` such that:\n",
    "- \\( i != j \\), \\( i != k \\), and \\( j != k \\)\n",
    "- \\( nums[i] + nums[j] + nums[k] == 0 \\)\n",
    "\n",
    "Notice that the solution set **must not contain duplicate triplets**.\n",
    "\n",
    "## Examples\n",
    "\n",
    "### Example 1:\n",
    "**Input**: \n",
    "```python\n",
    "nums = [-1, 0, 1, 2, -1, -4]\n",
    "\n",
    "Output:\n",
    "[[-1,-1,2],[-1,0,1]]\n"
   ]
  },
  {
   "cell_type": "markdown",
   "id": "ece9a2d6",
   "metadata": {},
   "source": [
    "Example 2:\n",
    "\n",
    "Input: nums = [0,1,1]\n",
    "Output: []\n",
    "Explanation: The only possible triplet does not sum up to 0.\n",
    "Example 3:\n",
    "\n",
    "Input: nums = [0,0,0]\n",
    "Output: [[0,0,0]]\n",
    "Explanation: The only possible triplet sums up to 0."
   ]
  },
  {
   "cell_type": "code",
   "execution_count": 2,
   "id": "e1c3f7f1",
   "metadata": {},
   "outputs": [],
   "source": [
    "# Brute Force, Use Triple loop and add the combination sum which is equals to 0."
   ]
  },
  {
   "cell_type": "code",
   "execution_count": 3,
   "id": "8b1f9464",
   "metadata": {},
   "outputs": [],
   "source": [
    "# Optimized Solution: Fix one position/number and using two pointers get the other two numbers and add it to result.\n",
    "# To not allow duplicates sort the array and skip the numbers which are same as previous index"
   ]
  },
  {
   "cell_type": "code",
   "execution_count": 23,
   "id": "dc3021fd",
   "metadata": {},
   "outputs": [],
   "source": [
    "def threeSum(nums):\n",
    "    \n",
    "    nums.sort()\n",
    "    result = []\n",
    "    \n",
    "    for i in range (len(nums)):\n",
    "        \n",
    "        # Skip the firsrt number position if it is already done\n",
    "        if ( i > 0 and nums[i] == nums[i-1] ):\n",
    "            continue\n",
    "        \n",
    "        #left and right pointers\n",
    "        l , r = i + 1 , len(nums) - 1\n",
    "        \n",
    "        # Fix one position that is i, and use two pointer to find other pairs which will add up to 0 \n",
    "        while ( l < r ):\n",
    "            \n",
    "            total = nums[i] + nums[l] + nums[r]\n",
    "            \n",
    "            if (total == 0):\n",
    "                result.append( [nums[i] , nums[l] , nums[r]] )\n",
    "                \n",
    "                # Skips duplicates for 2nd position\n",
    "                while ( l < r and nums[l] == nums[l+1] ):\n",
    "                    l = l + 1\n",
    "                \n",
    "                #Skips duplicates for 3rd position\n",
    "                while ( l < r and nums[r] == nums[r-1] ):\n",
    "                    r = r - 1\n",
    "                \n",
    "                # Move the pointers if you found a solution\n",
    "                l , r = l + 1 , r - 1\n",
    "            \n",
    "            #Move left pointer to increase total value (to get close to zero)\n",
    "            elif (total < 0):\n",
    "                l = l + 1\n",
    "            \n",
    "            #Move right pointer to reduce total value\n",
    "            elif (total > 0):\n",
    "                r = r - 1\n",
    "    \n",
    "    return (result)\n",
    "            \n",
    "            "
   ]
  },
  {
   "cell_type": "code",
   "execution_count": 24,
   "id": "ea74d8b2",
   "metadata": {},
   "outputs": [
    {
     "data": {
      "text/plain": [
       "[[-1, -1, 2], [-1, 0, 1]]"
      ]
     },
     "execution_count": 24,
     "metadata": {},
     "output_type": "execute_result"
    }
   ],
   "source": [
    "threeSum([-1, 0, 1, 2, -1, -4])"
   ]
  },
  {
   "cell_type": "code",
   "execution_count": null,
   "id": "f584ab5c",
   "metadata": {},
   "outputs": [],
   "source": []
  }
 ],
 "metadata": {
  "kernelspec": {
   "display_name": "Python 3",
   "language": "python",
   "name": "python3"
  },
  "language_info": {
   "codemirror_mode": {
    "name": "ipython",
    "version": 3
   },
   "file_extension": ".py",
   "mimetype": "text/x-python",
   "name": "python",
   "nbconvert_exporter": "python",
   "pygments_lexer": "ipython3",
   "version": "3.8.8"
  }
 },
 "nbformat": 4,
 "nbformat_minor": 5
}
