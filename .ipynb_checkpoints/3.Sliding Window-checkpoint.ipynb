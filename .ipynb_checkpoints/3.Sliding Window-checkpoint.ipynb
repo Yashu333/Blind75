{
 "cells": [
  {
   "cell_type": "markdown",
   "id": "777d43a7",
   "metadata": {},
   "source": [
    "# 12. Best Time to Buy and Sell Stocks"
   ]
  },
  {
   "cell_type": "markdown",
   "id": "f2646928",
   "metadata": {},
   "source": [
    "You are given an array prices where prices[i] is the price of a given stock on the ith day.\n",
    "\n",
    "You want to maximize your profit by choosing a single day to buy one stock and choosing a different day in the future to sell that stock.\n",
    "\n",
    "Return the maximum profit you can achieve from this transaction. If you cannot achieve any profit, return 0.\n",
    "\n",
    " \n",
    "\n",
    "Example 1:\n",
    "\n",
    "Input: prices = [7,1,5,3,6,4]\n",
    "<br>\n",
    "Output: 5\n",
    "<br>\n",
    "Explanation: Buy on day 2 (price = 1) and sell on day 5 (price = 6), profit = 6-1 = 5.\n",
    "Note that buying on day 2 and selling on day 1 is not allowed because you must buy before you sell.\n",
    "\n",
    "\n",
    "Example 2:\n",
    "<br>\n",
    "Input: prices = [7,6,4,3,1]\n",
    "<br>\n",
    "Output: 0\n",
    "<br>\n",
    "Explanation: In this case, no transactions are done and the max profit = 0.\n",
    " \n",
    "\n",
    "Constraints:\n",
    "\n",
    "1 <= prices.length <= 105\n",
    "0 <= prices[i] <= 104"
   ]
  },
  {
   "cell_type": "code",
   "execution_count": 10,
   "id": "8cc42243",
   "metadata": {},
   "outputs": [],
   "source": [
    "# Brute Force - Use loop twice and calculate profit at each interval and update the max profit"
   ]
  },
  {
   "cell_type": "code",
   "execution_count": 11,
   "id": "3e4813dd",
   "metadata": {},
   "outputs": [],
   "source": [
    "def maxProfit(prices):\n",
    "    \n",
    "    maximumProfit = 0\n",
    "    # initializing pointers\n",
    "    l , r = 0 , 1\n",
    "    \n",
    "    #Sliding window until the end of list\n",
    "    while ( l < len(prices) and r < len(prices) ):\n",
    "        \n",
    "        # Calculate current profit if selling price is higher\n",
    "        if ( prices[r] > prices[l] ):\n",
    "            \n",
    "            currentProfit = prices[r] - prices[l]\n",
    "            maximumProfit = max(maximumProfit, currentProfit)\n",
    "            \n",
    "            #Continue to check other selling prices\n",
    "            r = r + 1\n",
    "        \n",
    "        # If you found a lowest buying price, shift the window\n",
    "        else:\n",
    "            l = r\n",
    "            r = l + 1\n",
    "            \n",
    "    return (maximumProfit)"
   ]
  },
  {
   "cell_type": "code",
   "execution_count": 12,
   "id": "d5c19afe",
   "metadata": {},
   "outputs": [
    {
     "data": {
      "text/plain": [
       "5"
      ]
     },
     "execution_count": 12,
     "metadata": {},
     "output_type": "execute_result"
    }
   ],
   "source": [
    "maxProfit([7,1,5,3,6,4])"
   ]
  },
  {
   "cell_type": "code",
   "execution_count": 13,
   "id": "c2330937",
   "metadata": {},
   "outputs": [
    {
     "data": {
      "text/plain": [
       "0"
      ]
     },
     "execution_count": 13,
     "metadata": {},
     "output_type": "execute_result"
    }
   ],
   "source": [
    "maxProfit([7,6,4,3,1])"
   ]
  },
  {
   "cell_type": "markdown",
   "id": "7987222c",
   "metadata": {},
   "source": [
    "# 13. Longest Substring Without Repeating Characters"
   ]
  },
  {
   "cell_type": "markdown",
   "id": "da4dde37",
   "metadata": {},
   "source": [
    "Given a string s, find the length of the longest \n",
    "substring\n",
    " without repeating characters.\n",
    "\n",
    " \n",
    "\n",
    "Example 1:\n",
    "\n",
    "Input: s = \"abcabcbb\"\n",
    "Output: 3\n",
    "Explanation: The answer is \"abc\", with the length of 3.\n",
    "Example 2:\n",
    "\n",
    "Input: s = \"bbbbb\"\n",
    "Output: 1\n",
    "Explanation: The answer is \"b\", with the length of 1.\n",
    "Example 3:\n",
    "\n",
    "Input: s = \"pwwkew\"\n",
    "Output: 3\n",
    "Explanation: The answer is \"wke\", with the length of 3.\n",
    "Notice that the answer must be a substring, \"pwke\" is a subsequence and not a substring.\n",
    " \n",
    "\n",
    "Constraints:\n",
    "\n",
    "0 <= s.length <= 5 * 104\n",
    "s consists of English letters, digits, symbols and spaces."
   ]
  },
  {
   "cell_type": "code",
   "execution_count": 50,
   "id": "31a2121a",
   "metadata": {},
   "outputs": [],
   "source": [
    "def lengthOfLongestSubstring(s):\n",
    "    \n",
    "    if ( s == \"\" ):\n",
    "        return (0)\n",
    "    \n",
    "    l , r = 0 , 1\n",
    "    hashSet = set(s[l])\n",
    "    maxLength , currentLength = 0 , 1\n",
    "    \n",
    "    while ( l < len(s) and r < len(s) ):\n",
    "        \n",
    "        if ( s[r] not in hashSet):\n",
    "            \n",
    "            hashSet.add(s[r])\n",
    "            currentLength += 1\n",
    "            r += 1\n",
    "        else:\n",
    "            maxLength = max(maxLength, currentLength)\n",
    "            while (s[r] in hashSet):\n",
    "                hashSet.remove(s[l])\n",
    "                l += 1\n",
    "                currentLength -= 1\n",
    "            hashSet.add(s[r])\n",
    "            currentLength += 1\n",
    "            r += 1\n",
    "    maxLength = max(maxLength , currentLength)\n",
    "    \n",
    "    return (maxLength)"
   ]
  },
  {
   "cell_type": "code",
   "execution_count": 51,
   "id": "9bcb5d55",
   "metadata": {},
   "outputs": [
    {
     "data": {
      "text/plain": [
       "3"
      ]
     },
     "execution_count": 51,
     "metadata": {},
     "output_type": "execute_result"
    }
   ],
   "source": [
    "lengthOfLongestSubstring(\"abcabcbb\")"
   ]
  },
  {
   "cell_type": "code",
   "execution_count": 52,
   "id": "a6c7a38c",
   "metadata": {},
   "outputs": [
    {
     "data": {
      "text/plain": [
       "1"
      ]
     },
     "execution_count": 52,
     "metadata": {},
     "output_type": "execute_result"
    }
   ],
   "source": [
    "lengthOfLongestSubstring(\"bbbbb\")"
   ]
  },
  {
   "cell_type": "code",
   "execution_count": 53,
   "id": "7f01968f",
   "metadata": {},
   "outputs": [
    {
     "data": {
      "text/plain": [
       "3"
      ]
     },
     "execution_count": 53,
     "metadata": {},
     "output_type": "execute_result"
    }
   ],
   "source": [
    "lengthOfLongestSubstring(\"pwwkew\")"
   ]
  },
  {
   "cell_type": "code",
   "execution_count": 54,
   "id": "5b1c73f6",
   "metadata": {},
   "outputs": [
    {
     "data": {
      "text/plain": [
       "0"
      ]
     },
     "execution_count": 54,
     "metadata": {},
     "output_type": "execute_result"
    }
   ],
   "source": [
    "lengthOfLongestSubstring(\"\")"
   ]
  },
  {
   "cell_type": "code",
   "execution_count": 55,
   "id": "d8f902d6",
   "metadata": {},
   "outputs": [
    {
     "data": {
      "text/plain": [
       "1"
      ]
     },
     "execution_count": 55,
     "metadata": {},
     "output_type": "execute_result"
    }
   ],
   "source": [
    "lengthOfLongestSubstring(\" \")"
   ]
  },
  {
   "cell_type": "code",
   "execution_count": 5,
   "id": "7170e579",
   "metadata": {},
   "outputs": [],
   "source": [
    "# Add the letters to the hashset if it is unique, if it is found already in the hashset, increment l until there is no duplicate.\n",
    "def lengthOfLongestSubstring1(s):\n",
    "    \n",
    "    # Empty input\n",
    "    if ( s == \"\" ):\n",
    "        return (0)\n",
    "    \n",
    "    l , r = 0 , 1\n",
    "    hashSet = set(s[l])\n",
    "    maxLength = 1\n",
    "    \n",
    "    # Until the end of the string\n",
    "    while ( l < len(s) and r < len(s) ): \n",
    "            \n",
    "            # if duplicate found, increment the left and remove s[l] from hashset until there is no duplicate\n",
    "            while (s[r] in hashSet):\n",
    "                hashSet.remove(s[l])\n",
    "                l += 1\n",
    "            \n",
    "            # compare max length\n",
    "            maxLength = max(maxLength, r-l+1)\n",
    "            #add the letter if it is unique (not in hashset)\n",
    "            hashSet.add(s[r])\n",
    "            \n",
    "            r += 1\n",
    "    \n",
    "    return (maxLength)"
   ]
  },
  {
   "cell_type": "code",
   "execution_count": 6,
   "id": "f8325319",
   "metadata": {},
   "outputs": [
    {
     "data": {
      "text/plain": [
       "3"
      ]
     },
     "execution_count": 6,
     "metadata": {},
     "output_type": "execute_result"
    }
   ],
   "source": [
    "lengthOfLongestSubstring1(\"abcabcbb\")"
   ]
  },
  {
   "cell_type": "code",
   "execution_count": 7,
   "id": "44e540ab",
   "metadata": {},
   "outputs": [
    {
     "data": {
      "text/plain": [
       "6"
      ]
     },
     "execution_count": 7,
     "metadata": {},
     "output_type": "execute_result"
    }
   ],
   "source": [
    "lengthOfLongestSubstring1(\"pwwkewwabcde\")"
   ]
  },
  {
   "cell_type": "code",
   "execution_count": 8,
   "id": "81562ffc",
   "metadata": {},
   "outputs": [
    {
     "data": {
      "text/plain": [
       "1"
      ]
     },
     "execution_count": 8,
     "metadata": {},
     "output_type": "execute_result"
    }
   ],
   "source": [
    "lengthOfLongestSubstring1(\" \")"
   ]
  },
  {
   "cell_type": "code",
   "execution_count": 9,
   "id": "59322ed7",
   "metadata": {},
   "outputs": [
    {
     "data": {
      "text/plain": [
       "0"
      ]
     },
     "execution_count": 9,
     "metadata": {},
     "output_type": "execute_result"
    }
   ],
   "source": [
    "lengthOfLongestSubstring1(\"\")"
   ]
  },
  {
   "cell_type": "markdown",
   "id": "1e3773d0",
   "metadata": {},
   "source": [
    "# Longest Repeating Character Replacement"
   ]
  },
  {
   "cell_type": "code",
   "execution_count": 47,
   "id": "aec54b7b",
   "metadata": {},
   "outputs": [],
   "source": [
    "def characterReplacement (s ,k):\n",
    "    \n",
    "    maxlength = 0\n",
    "    l , r = 0 , 0\n",
    "    hashmap = {}\n",
    "    \n",
    "    while (l<len(s) and r<len(s)):\n",
    "        \n",
    "        while ( hashmap and (r-l+1) - max(hashmap.values()) > k ):\n",
    "            hashmap[s[l]] -= 1\n",
    "            l += 1\n",
    "        \n",
    "        hashmap[s[r]] = hashmap.get(s[r],0) + 1\n",
    "        print (hashmap, l , r)\n",
    "        r += 1\n",
    "        \n",
    "        \n",
    "        maxlength = max(maxlength , r-l+1)\n",
    "    \n",
    "    return (maxlength)"
   ]
  },
  {
   "cell_type": "code",
   "execution_count": 48,
   "id": "c2ec108c",
   "metadata": {},
   "outputs": [
    {
     "name": "stdout",
     "output_type": "stream",
     "text": [
      "{'A': 1} 0 1\n",
      "{'A': 2} 0 2\n",
      "{'A': 2, 'B': 1} 0 3\n",
      "{'A': 3, 'B': 1} 0 4\n",
      "{'A': 3, 'B': 2} 0 5\n",
      "{'A': 1, 'B': 3} 2 6\n",
      "{'A': 2, 'B': 3} 2 7\n"
     ]
    },
    {
     "data": {
      "text/plain": [
       "6"
      ]
     },
     "execution_count": 48,
     "metadata": {},
     "output_type": "execute_result"
    }
   ],
   "source": [
    "characterReplacement(\"AABABBA\", 2)"
   ]
  },
  {
   "cell_type": "code",
   "execution_count": null,
   "id": "de2610da",
   "metadata": {},
   "outputs": [],
   "source": []
  },
  {
   "cell_type": "code",
   "execution_count": null,
   "id": "4b8b6e67",
   "metadata": {},
   "outputs": [],
   "source": []
  }
 ],
 "metadata": {
  "kernelspec": {
   "display_name": "Python 3",
   "language": "python",
   "name": "python3"
  },
  "language_info": {
   "codemirror_mode": {
    "name": "ipython",
    "version": 3
   },
   "file_extension": ".py",
   "mimetype": "text/x-python",
   "name": "python",
   "nbconvert_exporter": "python",
   "pygments_lexer": "ipython3",
   "version": "3.8.8"
  }
 },
 "nbformat": 4,
 "nbformat_minor": 5
}
