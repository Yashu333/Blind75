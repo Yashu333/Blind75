{
 "cells": [
  {
   "cell_type": "markdown",
   "id": "777d43a7",
   "metadata": {},
   "source": [
    "# 12. Best Time to Buy and Sell Stocks"
   ]
  },
  {
   "cell_type": "markdown",
   "id": "f2646928",
   "metadata": {},
   "source": [
    "You are given an array prices where prices[i] is the price of a given stock on the ith day.\n",
    "\n",
    "You want to maximize your profit by choosing a single day to buy one stock and choosing a different day in the future to sell that stock.\n",
    "\n",
    "Return the maximum profit you can achieve from this transaction. If you cannot achieve any profit, return 0.\n",
    "\n",
    " \n",
    "\n",
    "Example 1:\n",
    "\n",
    "Input: prices = [7,1,5,3,6,4]\n",
    "<br>\n",
    "Output: 5\n",
    "<br>\n",
    "Explanation: Buy on day 2 (price = 1) and sell on day 5 (price = 6), profit = 6-1 = 5.\n",
    "Note that buying on day 2 and selling on day 1 is not allowed because you must buy before you sell.\n",
    "\n",
    "\n",
    "Example 2:\n",
    "<br>\n",
    "Input: prices = [7,6,4,3,1]\n",
    "<br>\n",
    "Output: 0\n",
    "<br>\n",
    "Explanation: In this case, no transactions are done and the max profit = 0.\n",
    " \n",
    "\n",
    "Constraints:\n",
    "\n",
    "1 <= prices.length <= 105\n",
    "0 <= prices[i] <= 104"
   ]
  },
  {
   "cell_type": "code",
   "execution_count": 10,
   "id": "8cc42243",
   "metadata": {},
   "outputs": [],
   "source": [
    "# Brute Force - Use loop twice and calculate profit at each interval and update the max profit"
   ]
  },
  {
   "cell_type": "code",
   "execution_count": 11,
   "id": "3e4813dd",
   "metadata": {},
   "outputs": [],
   "source": [
    "def maxProfit(prices):\n",
    "    \n",
    "    maximumProfit = 0\n",
    "    # initializing pointers\n",
    "    l , r = 0 , 1\n",
    "    \n",
    "    #Sliding window until the end of list\n",
    "    while ( l < len(prices) and r < len(prices) ):\n",
    "        \n",
    "        # Calculate current profit if selling price is higher\n",
    "        if ( prices[r] > prices[l] ):\n",
    "            \n",
    "            currentProfit = prices[r] - prices[l]\n",
    "            maximumProfit = max(maximumProfit, currentProfit)\n",
    "            \n",
    "            #Continue to check other selling prices\n",
    "            r = r + 1\n",
    "        \n",
    "        # If you found a lowest buying price, shift the window\n",
    "        else:\n",
    "            l = r\n",
    "            r = l + 1\n",
    "            \n",
    "    return (maximumProfit)"
   ]
  },
  {
   "cell_type": "code",
   "execution_count": 12,
   "id": "d5c19afe",
   "metadata": {},
   "outputs": [
    {
     "data": {
      "text/plain": [
       "5"
      ]
     },
     "execution_count": 12,
     "metadata": {},
     "output_type": "execute_result"
    }
   ],
   "source": [
    "maxProfit([7,1,5,3,6,4])"
   ]
  },
  {
   "cell_type": "code",
   "execution_count": 13,
   "id": "c2330937",
   "metadata": {},
   "outputs": [
    {
     "data": {
      "text/plain": [
       "0"
      ]
     },
     "execution_count": 13,
     "metadata": {},
     "output_type": "execute_result"
    }
   ],
   "source": [
    "maxProfit([7,6,4,3,1])"
   ]
  },
  {
   "cell_type": "markdown",
   "id": "7987222c",
   "metadata": {},
   "source": [
    "# 13. Longest Substring Without Repeating Characters"
   ]
  },
  {
   "cell_type": "markdown",
   "id": "da4dde37",
   "metadata": {},
   "source": [
    "Given a string s, find the length of the longest \n",
    "substring\n",
    " without repeating characters.\n",
    "\n",
    " \n",
    "\n",
    "Example 1:\n",
    "\n",
    "Input: s = \"abcabcbb\"\n",
    "Output: 3\n",
    "Explanation: The answer is \"abc\", with the length of 3.\n",
    "Example 2:\n",
    "\n",
    "Input: s = \"bbbbb\"\n",
    "Output: 1\n",
    "Explanation: The answer is \"b\", with the length of 1.\n",
    "Example 3:\n",
    "\n",
    "Input: s = \"pwwkew\"\n",
    "Output: 3\n",
    "Explanation: The answer is \"wke\", with the length of 3.\n",
    "Notice that the answer must be a substring, \"pwke\" is a subsequence and not a substring.\n",
    " \n",
    "\n",
    "Constraints:\n",
    "\n",
    "0 <= s.length <= 5 * 104\n",
    "s consists of English letters, digits, symbols and spaces."
   ]
  },
  {
   "cell_type": "code",
   "execution_count": 50,
   "id": "31a2121a",
   "metadata": {},
   "outputs": [],
   "source": [
    "def lengthOfLongestSubstring(s):\n",
    "    \n",
    "    if ( s == \"\" ):\n",
    "        return (0)\n",
    "    \n",
    "    l , r = 0 , 1\n",
    "    hashSet = set(s[l])\n",
    "    maxLength , currentLength = 0 , 1\n",
    "    \n",
    "    while ( l < len(s) and r < len(s) ):\n",
    "        \n",
    "        if ( s[r] not in hashSet):\n",
    "            \n",
    "            hashSet.add(s[r])\n",
    "            currentLength += 1\n",
    "            r += 1\n",
    "        else:\n",
    "            maxLength = max(maxLength, currentLength)\n",
    "            while (s[r] in hashSet):\n",
    "                hashSet.remove(s[l])\n",
    "                l += 1\n",
    "                currentLength -= 1\n",
    "            hashSet.add(s[r])\n",
    "            currentLength += 1\n",
    "            r += 1\n",
    "    maxLength = max(maxLength , currentLength)\n",
    "    \n",
    "    return (maxLength)"
   ]
  },
  {
   "cell_type": "code",
   "execution_count": 51,
   "id": "9bcb5d55",
   "metadata": {},
   "outputs": [
    {
     "data": {
      "text/plain": [
       "3"
      ]
     },
     "execution_count": 51,
     "metadata": {},
     "output_type": "execute_result"
    }
   ],
   "source": [
    "lengthOfLongestSubstring(\"abcabcbb\")"
   ]
  },
  {
   "cell_type": "code",
   "execution_count": 52,
   "id": "a6c7a38c",
   "metadata": {},
   "outputs": [
    {
     "data": {
      "text/plain": [
       "1"
      ]
     },
     "execution_count": 52,
     "metadata": {},
     "output_type": "execute_result"
    }
   ],
   "source": [
    "lengthOfLongestSubstring(\"bbbbb\")"
   ]
  },
  {
   "cell_type": "code",
   "execution_count": 53,
   "id": "7f01968f",
   "metadata": {},
   "outputs": [
    {
     "data": {
      "text/plain": [
       "3"
      ]
     },
     "execution_count": 53,
     "metadata": {},
     "output_type": "execute_result"
    }
   ],
   "source": [
    "lengthOfLongestSubstring(\"pwwkew\")"
   ]
  },
  {
   "cell_type": "code",
   "execution_count": 54,
   "id": "5b1c73f6",
   "metadata": {},
   "outputs": [
    {
     "data": {
      "text/plain": [
       "0"
      ]
     },
     "execution_count": 54,
     "metadata": {},
     "output_type": "execute_result"
    }
   ],
   "source": [
    "lengthOfLongestSubstring(\"\")"
   ]
  },
  {
   "cell_type": "code",
   "execution_count": 55,
   "id": "d8f902d6",
   "metadata": {},
   "outputs": [
    {
     "data": {
      "text/plain": [
       "1"
      ]
     },
     "execution_count": 55,
     "metadata": {},
     "output_type": "execute_result"
    }
   ],
   "source": [
    "lengthOfLongestSubstring(\" \")"
   ]
  },
  {
   "cell_type": "code",
   "execution_count": 5,
   "id": "7170e579",
   "metadata": {},
   "outputs": [],
   "source": [
    "# Add the letters to the hashset if it is unique, if it is found already in the hashset, increment l until there is no duplicate.\n",
    "def lengthOfLongestSubstring1(s):\n",
    "    \n",
    "    # Empty input\n",
    "    if ( s == \"\" ):\n",
    "        return (0)\n",
    "    \n",
    "    l , r = 0 , 1\n",
    "    hashSet = set(s[l])\n",
    "    maxLength = 1\n",
    "    \n",
    "    # Until the end of the string\n",
    "    while ( l < len(s) and r < len(s) ): \n",
    "            \n",
    "            # if duplicate found, increment the left and remove s[l] from hashset until there is no duplicate\n",
    "            while (s[r] in hashSet):\n",
    "                hashSet.remove(s[l])\n",
    "                l += 1\n",
    "            \n",
    "            # compare max length\n",
    "            maxLength = max(maxLength, r-l+1)\n",
    "            #add the letter if it is unique (not in hashset)\n",
    "            hashSet.add(s[r])\n",
    "            \n",
    "            r += 1\n",
    "    \n",
    "    return (maxLength)"
   ]
  },
  {
   "cell_type": "code",
   "execution_count": 6,
   "id": "f8325319",
   "metadata": {},
   "outputs": [
    {
     "data": {
      "text/plain": [
       "3"
      ]
     },
     "execution_count": 6,
     "metadata": {},
     "output_type": "execute_result"
    }
   ],
   "source": [
    "lengthOfLongestSubstring1(\"abcabcbb\")"
   ]
  },
  {
   "cell_type": "code",
   "execution_count": 7,
   "id": "44e540ab",
   "metadata": {},
   "outputs": [
    {
     "data": {
      "text/plain": [
       "6"
      ]
     },
     "execution_count": 7,
     "metadata": {},
     "output_type": "execute_result"
    }
   ],
   "source": [
    "lengthOfLongestSubstring1(\"pwwkewwabcde\")"
   ]
  },
  {
   "cell_type": "code",
   "execution_count": 8,
   "id": "81562ffc",
   "metadata": {},
   "outputs": [
    {
     "data": {
      "text/plain": [
       "1"
      ]
     },
     "execution_count": 8,
     "metadata": {},
     "output_type": "execute_result"
    }
   ],
   "source": [
    "lengthOfLongestSubstring1(\" \")"
   ]
  },
  {
   "cell_type": "code",
   "execution_count": 9,
   "id": "59322ed7",
   "metadata": {},
   "outputs": [
    {
     "data": {
      "text/plain": [
       "0"
      ]
     },
     "execution_count": 9,
     "metadata": {},
     "output_type": "execute_result"
    }
   ],
   "source": [
    "lengthOfLongestSubstring1(\"\")"
   ]
  },
  {
   "cell_type": "markdown",
   "id": "9424dbfb",
   "metadata": {},
   "source": [
    "# Longest Repeating Character Replacement"
   ]
  },
  {
   "cell_type": "markdown",
   "id": "dbf0d24d",
   "metadata": {},
   "source": [
    "You are given a string s and an integer k. You can choose any character of the string and change it to any other uppercase English character. You can perform this operation at most k times.\n",
    "\n",
    "Return the length of the longest substring containing the same letter you can get after performing the above operations.\n",
    "\n",
    " \n",
    "\n",
    "Example 1:\n",
    "\n",
    "Input: s = \"ABAB\", k = 2\n",
    "Output: 4\n",
    "Explanation: Replace the two 'A's with two 'B's or vice versa.\n",
    "Example 2:\n",
    "\n",
    "Input: s = \"AABABBA\", k = 1\n",
    "Output: 4\n",
    "Explanation: Replace the one 'A' in the middle with 'B' and form \"AABBBBA\".\n",
    "The substring \"BBBB\" has the longest repeating letters, which is 4.\n",
    "There may exists other ways to achieve this answer too.\n",
    " \n",
    "\n",
    "Constraints:\n",
    "\n",
    "1 <= s.length <= 105\n",
    "s consists of only uppercase English letters.\n",
    "0 <= k <= s.length"
   ]
  },
  {
   "cell_type": "code",
   "execution_count": 21,
   "id": "302328f9",
   "metadata": {},
   "outputs": [],
   "source": [
    "def characterReplacement (s ,k):\n",
    "    \n",
    "    maxlength = 0\n",
    "    l , r = 0 , 0\n",
    "    hashmap = {}\n",
    "    \n",
    "    # Until the end of the string\n",
    "    while (l<len(s) and r<len(s)):\n",
    "        \n",
    "        #add it to the hashmap\n",
    "        hashmap[s[r]] = hashmap.get(s[r],0) + 1\n",
    "        \n",
    "        # If the string is not valid, (it contains more than k non-dominant characters)\n",
    "        # Move the sliding window until the string is valid\n",
    "        while ( hashmap and (r-l+1) - max(hashmap.values()) > k ):\n",
    "            hashmap[s[l]] -= 1\n",
    "            l += 1\n",
    "        \n",
    "        # Calculate the max length\n",
    "        maxlength = max(maxlength , r-l+1)\n",
    "        r += 1\n",
    "        \n",
    "        \n",
    "    return (maxlength)"
   ]
  },
  {
   "cell_type": "code",
   "execution_count": 22,
   "id": "710ae757",
   "metadata": {},
   "outputs": [
    {
     "data": {
      "text/plain": [
       "5"
      ]
     },
     "execution_count": 22,
     "metadata": {},
     "output_type": "execute_result"
    }
   ],
   "source": [
    "characterReplacement(\"AAABABB\", 1)"
   ]
  },
  {
   "cell_type": "code",
   "execution_count": 25,
   "id": "699c8ddd",
   "metadata": {},
   "outputs": [
    {
     "data": {
      "text/plain": [
       "3"
      ]
     },
     "execution_count": 25,
     "metadata": {},
     "output_type": "execute_result"
    }
   ],
   "source": [
    "characterReplacement(\"ABAB\", 1)"
   ]
  },
  {
   "cell_type": "markdown",
   "id": "23634795",
   "metadata": {},
   "source": [
    "# Minimum Window Substring"
   ]
  },
  {
   "cell_type": "markdown",
   "id": "becbe4f4",
   "metadata": {},
   "source": [
    "Given two strings s and t of lengths m and n respectively, return the minimum window \n",
    "substring\n",
    " of s such that every character in t (including duplicates) is included in the window. If there is no such substring, return the empty string \"\".\n",
    "\n",
    "The testcases will be generated such that the answer is unique.\n",
    "\n",
    " \n",
    "\n",
    "Example 1:\n",
    "\n",
    "Input: s = \"ADOBECODEBANC\", t = \"ABC\"\n",
    "Output: \"BANC\"\n",
    "Explanation: The minimum window substring \"BANC\" includes 'A', 'B', and 'C' from string t.\n",
    "Example 2:\n",
    "\n",
    "Input: s = \"a\", t = \"a\"\n",
    "Output: \"a\"\n",
    "Explanation: The entire string s is the minimum window.\n",
    "Example 3:\n",
    "\n",
    "Input: s = \"a\", t = \"aa\"\n",
    "Output: \"\"\n",
    "Explanation: Both 'a's from t must be included in the window.\n",
    "Since the largest window of s only has one 'a', return empty string.\n",
    " \n",
    "\n",
    "Constraints:\n",
    "\n",
    "m == s.length\n",
    "n == t.length\n",
    "1 <= m, n <= 105\n",
    "s and t consist of uppercase and lowercase English letters.\n",
    " \n",
    "\n",
    "Follow up: Could you find an algorithm that runs in O(m + n) time?"
   ]
  },
  {
   "cell_type": "code",
   "execution_count": 88,
   "id": "50864491",
   "metadata": {},
   "outputs": [
    {
     "ename": "SyntaxError",
     "evalue": "invalid syntax (<ipython-input-88-a57cac2a4065>, line 35)",
     "output_type": "error",
     "traceback": [
      "\u001b[1;36m  File \u001b[1;32m\"<ipython-input-88-a57cac2a4065>\"\u001b[1;36m, line \u001b[1;32m35\u001b[0m\n\u001b[1;33m    else if (currentTracker[s[l]] == 0):\u001b[0m\n\u001b[1;37m         ^\u001b[0m\n\u001b[1;31mSyntaxError\u001b[0m\u001b[1;31m:\u001b[0m invalid syntax\n"
     ]
    }
   ],
   "source": [
    "def minWindow(s,t):\n",
    "    \n",
    "    minWindowLength = len(s)\n",
    "    k = 0\n",
    "    currentTracker, tCounter = {} , {}\n",
    "    l,r = 0,0\n",
    "    result = \"\"\n",
    "    \n",
    "    tCounter = {i:tCounter.get(i,0)+1 for i in t}\n",
    "    \n",
    "    while (l<len(s) and r<len(s)):\n",
    "        \n",
    "        if (s[r] in tCounter.keys()):\n",
    "            currentTracker[s[r]] = currentTracker.get(s[r],0) + 1\n",
    "            if (currentTracker[s[r]] == tCounter[s[r]]):\n",
    "                k = k+1\n",
    "\n",
    "        \n",
    "        while ( k == len(t) ):\n",
    "            \n",
    "            if (r-l+1 <= minWindowLength):\n",
    "                result = s[l:r+1]\n",
    "                minWindowLength = r-l+1\n",
    "            \n",
    "            if (s[l] in tCounter.keys() and currentTracker[s[l]] > 0):\n",
    "                currentTracker[s[l]] -= 1\n",
    "                if (currentTracker[s[l]] < tCounter[s[l]]):\n",
    "                    k -= 1\n",
    "            \n",
    "            l += 1\n",
    "            \n",
    "            if (k!=len(t) and l<len(s)):\n",
    "                while ( s[l] not in tCounter.keys() or currentTracker[s[l]] == 0 ):\n",
    "                    l += 1\n",
    "        r += 1\n",
    "        \n",
    "    return (result)"
   ]
  },
  {
   "cell_type": "code",
   "execution_count": 89,
   "id": "7f17dc7b",
   "metadata": {},
   "outputs": [
    {
     "ename": "KeyError",
     "evalue": "'B'",
     "output_type": "error",
     "traceback": [
      "\u001b[1;31m---------------------------------------------------------------------------\u001b[0m",
      "\u001b[1;31mKeyError\u001b[0m                                  Traceback (most recent call last)",
      "\u001b[1;32m<ipython-input-89-db4a2255b31a>\u001b[0m in \u001b[0;36m<module>\u001b[1;34m\u001b[0m\n\u001b[1;32m----> 1\u001b[1;33m \u001b[0mminWindow\u001b[0m\u001b[1;33m(\u001b[0m\u001b[1;34m\"AB\"\u001b[0m\u001b[1;33m,\u001b[0m\u001b[1;34m\"A\"\u001b[0m\u001b[1;33m)\u001b[0m\u001b[1;33m\u001b[0m\u001b[1;33m\u001b[0m\u001b[0m\n\u001b[0m",
      "\u001b[1;32m<ipython-input-84-7efee72bd657>\u001b[0m in \u001b[0;36mminWindow\u001b[1;34m(s, t)\u001b[0m\n\u001b[0;32m     31\u001b[0m \u001b[1;33m\u001b[0m\u001b[0m\n\u001b[0;32m     32\u001b[0m             \u001b[1;32mif\u001b[0m \u001b[1;33m(\u001b[0m\u001b[0mk\u001b[0m\u001b[1;33m!=\u001b[0m\u001b[0mlen\u001b[0m\u001b[1;33m(\u001b[0m\u001b[0mt\u001b[0m\u001b[1;33m)\u001b[0m \u001b[1;32mand\u001b[0m \u001b[0ml\u001b[0m\u001b[1;33m<\u001b[0m\u001b[0mlen\u001b[0m\u001b[1;33m(\u001b[0m\u001b[0ms\u001b[0m\u001b[1;33m)\u001b[0m\u001b[1;33m)\u001b[0m\u001b[1;33m:\u001b[0m\u001b[1;33m\u001b[0m\u001b[1;33m\u001b[0m\u001b[0m\n\u001b[1;32m---> 33\u001b[1;33m                 \u001b[1;32mwhile\u001b[0m \u001b[1;33m(\u001b[0m\u001b[0mcurrentTracker\u001b[0m\u001b[1;33m[\u001b[0m\u001b[0ms\u001b[0m\u001b[1;33m[\u001b[0m\u001b[0ml\u001b[0m\u001b[1;33m]\u001b[0m\u001b[1;33m]\u001b[0m \u001b[1;32mand\u001b[0m \u001b[1;33m(\u001b[0m\u001b[0ms\u001b[0m\u001b[1;33m[\u001b[0m\u001b[0ml\u001b[0m\u001b[1;33m]\u001b[0m \u001b[1;32mnot\u001b[0m \u001b[1;32min\u001b[0m \u001b[0mtCounter\u001b[0m\u001b[1;33m.\u001b[0m\u001b[0mkeys\u001b[0m\u001b[1;33m(\u001b[0m\u001b[1;33m)\u001b[0m \u001b[1;32mor\u001b[0m \u001b[1;33m(\u001b[0m\u001b[0mcurrentTracker\u001b[0m\u001b[1;33m[\u001b[0m\u001b[0ms\u001b[0m\u001b[1;33m[\u001b[0m\u001b[0ml\u001b[0m\u001b[1;33m]\u001b[0m\u001b[1;33m]\u001b[0m \u001b[1;33m==\u001b[0m \u001b[1;36m0\u001b[0m\u001b[1;33m)\u001b[0m\u001b[1;33m)\u001b[0m \u001b[1;33m)\u001b[0m\u001b[1;33m:\u001b[0m\u001b[1;33m\u001b[0m\u001b[1;33m\u001b[0m\u001b[0m\n\u001b[0m\u001b[0;32m     34\u001b[0m                     \u001b[0ml\u001b[0m \u001b[1;33m+=\u001b[0m \u001b[1;36m1\u001b[0m\u001b[1;33m\u001b[0m\u001b[1;33m\u001b[0m\u001b[0m\n\u001b[0;32m     35\u001b[0m         \u001b[0mr\u001b[0m \u001b[1;33m+=\u001b[0m \u001b[1;36m1\u001b[0m\u001b[1;33m\u001b[0m\u001b[1;33m\u001b[0m\u001b[0m\n",
      "\u001b[1;31mKeyError\u001b[0m: 'B'"
     ]
    }
   ],
   "source": [
    "minWindow(\"AB\",\"A\")"
   ]
  },
  {
   "cell_type": "code",
   "execution_count": 31,
   "id": "e5a27786",
   "metadata": {},
   "outputs": [],
   "source": [
    "a = {\"a\":1}"
   ]
  },
  {
   "cell_type": "code",
   "execution_count": 32,
   "id": "6c5e35d5",
   "metadata": {},
   "outputs": [],
   "source": [
    "b = {\"a\" : 1}"
   ]
  },
  {
   "cell_type": "code",
   "execution_count": 34,
   "id": "ee9ef4b5",
   "metadata": {},
   "outputs": [
    {
     "data": {
      "text/plain": [
       "True"
      ]
     },
     "execution_count": 34,
     "metadata": {},
     "output_type": "execute_result"
    }
   ],
   "source": [
    "a[\"a\"] == b[\"a\"]"
   ]
  },
  {
   "cell_type": "code",
   "execution_count": null,
   "id": "9e6aa47e",
   "metadata": {},
   "outputs": [],
   "source": []
  },
  {
   "cell_type": "code",
   "execution_count": null,
   "id": "927e22f6",
   "metadata": {},
   "outputs": [],
   "source": []
  }
 ],
 "metadata": {
  "kernelspec": {
   "display_name": "Python 3",
   "language": "python",
   "name": "python3"
  },
  "language_info": {
   "codemirror_mode": {
    "name": "ipython",
    "version": 3
   },
   "file_extension": ".py",
   "mimetype": "text/x-python",
   "name": "python",
   "nbconvert_exporter": "python",
   "pygments_lexer": "ipython3",
   "version": "3.8.8"
  }
 },
 "nbformat": 4,
 "nbformat_minor": 5
}
