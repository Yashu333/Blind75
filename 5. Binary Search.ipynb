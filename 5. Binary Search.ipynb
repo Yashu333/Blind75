{
 "cells": [
  {
   "cell_type": "markdown",
   "id": "9b9f319a",
   "metadata": {},
   "source": [
    "# 17. Find Minimum in rotated sorted Array"
   ]
  },
  {
   "cell_type": "markdown",
   "id": "61db4b85",
   "metadata": {},
   "source": [
    "Suppose an array of length n sorted in ascending order is rotated between 1 and n times. For example, the array nums = [0,1,2,4,5,6,7] might become:\n",
    "\n",
    "[4,5,6,7,0,1,2] if it was rotated 4 times.\n",
    "[0,1,2,4,5,6,7] if it was rotated 7 times.\n",
    "Notice that rotating an array [a[0], a[1], a[2], ..., a[n-1]] 1 time results in the array [a[n-1], a[0], a[1], a[2], ..., a[n-2]].\n",
    "\n",
    "Given the sorted rotated array nums of unique elements, return the minimum element of this array.\n",
    "\n",
    "You must write an algorithm that runs in O(log n) time.\n",
    "\n",
    " \n",
    "\n",
    "Example 1:\n",
    "\n",
    "Input: nums = [3,4,5,1,2]\n",
    "Output: 1\n",
    "Explanation: The original array was [1,2,3,4,5] rotated 3 times.\n",
    "Example 2:\n",
    "\n",
    "Input: nums = [4,5,6,7,0,1,2]\n",
    "Output: 0\n",
    "Explanation: The original array was [0,1,2,4,5,6,7] and it was rotated 4 times.\n",
    "Example 3:\n",
    "\n",
    "Input: nums = [11,13,15,17]\n",
    "Output: 11\n",
    "Explanation: The original array was [11,13,15,17] and it was rotated 4 times. \n",
    " \n",
    "\n",
    "Constraints:\n",
    "\n",
    "n == nums.length\n",
    "1 <= n <= 5000\n",
    "-5000 <= nums[i] <= 5000\n",
    "All the integers of nums are unique.\n",
    "nums is sorted and rotated between 1 and n times."
   ]
  },
  {
   "cell_type": "code",
   "execution_count": 45,
   "id": "b5e9b04f",
   "metadata": {},
   "outputs": [],
   "source": [
    "def findMin(nums):\n",
    "    \n",
    "    l,r = 0 , len(nums) - 1\n",
    "    \n",
    "    while (l < r):\n",
    "        m = (l+r)//2\n",
    "        \n",
    "        # Min element will be in left half\n",
    "        if (nums[m] > nums[r]):\n",
    "            l = m + 1\n",
    "        \n",
    "        #Min element will be in right half\n",
    "        else:\n",
    "            r = m #To make l==r at point of result\n",
    "        \n",
    "    return (nums[l])"
   ]
  },
  {
   "cell_type": "code",
   "execution_count": 46,
   "id": "b88f6cf1",
   "metadata": {},
   "outputs": [
    {
     "data": {
      "text/plain": [
       "1"
      ]
     },
     "execution_count": 46,
     "metadata": {},
     "output_type": "execute_result"
    }
   ],
   "source": [
    "findMin([3,4,5,1,2])"
   ]
  },
  {
   "cell_type": "code",
   "execution_count": 47,
   "id": "af03a903",
   "metadata": {},
   "outputs": [
    {
     "data": {
      "text/plain": [
       "0"
      ]
     },
     "execution_count": 47,
     "metadata": {},
     "output_type": "execute_result"
    }
   ],
   "source": [
    "findMin([4,5,6,7,0,1,2])"
   ]
  },
  {
   "cell_type": "code",
   "execution_count": 48,
   "id": "e73c637e",
   "metadata": {},
   "outputs": [
    {
     "data": {
      "text/plain": [
       "11"
      ]
     },
     "execution_count": 48,
     "metadata": {},
     "output_type": "execute_result"
    }
   ],
   "source": [
    "findMin([11,13,15,17])"
   ]
  },
  {
   "cell_type": "code",
   "execution_count": 49,
   "id": "31faeed5",
   "metadata": {},
   "outputs": [
    {
     "data": {
      "text/plain": [
       "1"
      ]
     },
     "execution_count": 49,
     "metadata": {},
     "output_type": "execute_result"
    }
   ],
   "source": [
    "findMin([1])"
   ]
  },
  {
   "cell_type": "code",
   "execution_count": 50,
   "id": "a3785204",
   "metadata": {},
   "outputs": [
    {
     "data": {
      "text/plain": [
       "1"
      ]
     },
     "execution_count": 50,
     "metadata": {},
     "output_type": "execute_result"
    }
   ],
   "source": [
    "findMin([3,4,5,6,1,2])"
   ]
  },
  {
   "cell_type": "markdown",
   "id": "7c020732",
   "metadata": {},
   "source": [
    "# 18. Find Target in Rotated Sorted Array"
   ]
  },
  {
   "cell_type": "markdown",
   "id": "8a138cc8",
   "metadata": {},
   "source": [
    "There is an integer array nums sorted in ascending order (with distinct values).\n",
    "\n",
    "Prior to being passed to your function, nums is possibly rotated at an unknown pivot index k (1 <= k < nums.length) such that the resulting array is [nums[k], nums[k+1], ..., nums[n-1], nums[0], nums[1], ..., nums[k-1]] (0-indexed). For example, [0,1,2,4,5,6,7] might be rotated at pivot index 3 and become [4,5,6,7,0,1,2].\n",
    "\n",
    "Given the array nums after the possible rotation and an integer target, return the index of target if it is in nums, or -1 if it is not in nums.\n",
    "\n",
    "You must write an algorithm with O(log n) runtime complexity.\n",
    "\n",
    " \n",
    "\n",
    "Example 1:\n",
    "\n",
    "Input: nums = [4,5,6,7,0,1,2], target = 0\n",
    "Output: 4\n",
    "Example 2:\n",
    "\n",
    "Input: nums = [4,5,6,7,0,1,2], target = 3\n",
    "Output: -1\n",
    "Example 3:\n",
    "\n",
    "Input: nums = [1], target = 0\n",
    "Output: -1\n",
    " \n",
    "\n",
    "Constraints:\n",
    "\n",
    "1 <= nums.length <= 5000\n",
    "-104 <= nums[i] <= 104\n",
    "All values of nums are unique.\n",
    "nums is an ascending array that is possibly rotated.\n",
    "-104 <= target <= 104"
   ]
  },
  {
   "cell_type": "code",
   "execution_count": 7,
   "id": "276b4755",
   "metadata": {},
   "outputs": [],
   "source": [
    "def search(nums, target):\n",
    "    \n",
    "    # left and right pointers\n",
    "    l , r = 0 , len(nums) - 1\n",
    "    \n",
    "    while (l<=r):\n",
    "        \n",
    "        m = (l+r)//2\n",
    "        \n",
    "        if (nums[m] == target):\n",
    "            return (m)\n",
    "        \n",
    "        # Conditions for searching left and right half\n",
    "        if nums[l] <= nums[m]:\n",
    "            if (target < nums[m] and target >= nums[l]):\n",
    "                r = m - 1 \n",
    "            else:\n",
    "                l = m + 1\n",
    "        # If not in left half it should be in right half\n",
    "        else:\n",
    "            if (target > nums[m] and target <= nums[r]):\n",
    "                l = m + 1 \n",
    "            else:\n",
    "                r = m - 1\n",
    "    \n",
    "    # If target is not in nums\n",
    "    return -1"
   ]
  },
  {
   "cell_type": "code",
   "execution_count": 10,
   "id": "caa5f5b6",
   "metadata": {},
   "outputs": [
    {
     "data": {
      "text/plain": [
       "4"
      ]
     },
     "execution_count": 10,
     "metadata": {},
     "output_type": "execute_result"
    }
   ],
   "source": [
    "search([4,5,6,7,0,1,2],0)"
   ]
  },
  {
   "cell_type": "code",
   "execution_count": 11,
   "id": "d416edf4",
   "metadata": {},
   "outputs": [
    {
     "data": {
      "text/plain": [
       "-1"
      ]
     },
     "execution_count": 11,
     "metadata": {},
     "output_type": "execute_result"
    }
   ],
   "source": [
    "search([1],0)"
   ]
  },
  {
   "cell_type": "code",
   "execution_count": 8,
   "id": "d59235eb",
   "metadata": {},
   "outputs": [
    {
     "data": {
      "text/plain": [
       "2"
      ]
     },
     "execution_count": 8,
     "metadata": {},
     "output_type": "execute_result"
    }
   ],
   "source": [
    "search([5,1,3],3)"
   ]
  },
  {
   "cell_type": "code",
   "execution_count": null,
   "id": "64a726ce",
   "metadata": {},
   "outputs": [],
   "source": []
  },
  {
   "cell_type": "code",
   "execution_count": null,
   "id": "4822b029",
   "metadata": {},
   "outputs": [],
   "source": []
  }
 ],
 "metadata": {
  "kernelspec": {
   "display_name": "Python 3",
   "language": "python",
   "name": "python3"
  },
  "language_info": {
   "codemirror_mode": {
    "name": "ipython",
    "version": 3
   },
   "file_extension": ".py",
   "mimetype": "text/x-python",
   "name": "python",
   "nbconvert_exporter": "python",
   "pygments_lexer": "ipython3",
   "version": "3.8.8"
  }
 },
 "nbformat": 4,
 "nbformat_minor": 5
}
